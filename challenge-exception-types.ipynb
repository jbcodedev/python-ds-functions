{
 "cells": [
  {
   "cell_type": "markdown",
   "metadata": {},
   "source": [
    "# <font color=green> Challenge: Excepciones en Python"
   ]
  },
  {
   "cell_type": "markdown",
   "metadata": {},
   "source": [
    "<font color=green> **Calentamiento**"
   ]
  },
  {
   "cell_type": "markdown",
   "metadata": {},
   "source": [
    "1 - Haz un programa que solicite a la persona usuaria ingresar dos números decimales y calcular la división entre estos números. El código debe incluir un manejo de error, indicando el tipo de error que se generó si la división no es posible.\n",
    "\n",
    "Prueba el programa con el segundo valor numérico de la entrada igual a 0. También prueba usando caracteres textuales en la entrada para verificar los tipos de errores que ocurren."
   ]
  },
  {
   "cell_type": "code",
   "execution_count": 5,
   "metadata": {},
   "outputs": [
    {
     "name": "stdout",
     "output_type": "stream",
     "text": [
      "Resultado de la división de 30.1 y 21.2: 1.4198113207547172\n"
     ]
    }
   ],
   "source": [
    "try:\n",
    "    num1 = float(input(\"Ingresa el primer número: \"))\n",
    "    num2 = float(input(\"Ingresa el segundo número: \"))\n",
    "    resultado = num1 / num2\n",
    "except ZeroDivisionError as e:\n",
    "    print(f\"Error: No se puede dividir entre cero. ({e})\")\n",
    "except ValueError as e:\n",
    "    print(f\"Error: Entrada inválida. ({e})\")\n",
    "else:\n",
    "    print(f\"Resultado de la división de {num1} y {num2}: {resultado}\")"
   ]
  },
  {
   "cell_type": "markdown",
   "metadata": {},
   "source": [
    "2 - Haz un programa que solicite a la persona usuaria ingresar un texto que será una clave a buscar en el siguiente diccionario: `edades = {'Júlia': 16, 'Carol': 23, 'Alberto': 19, 'Roberta': 17}`, almacenando el resultado del valor en una variable. El código debe incluir un manejo de error KeyError, imprimiendo la información 'Nombre no encontrado' en caso de error, e imprimir el valor si no ocurre ninguno.\n",
    "\n",
    "Prueba el programa con un nombre presente en una de las claves del diccionario y con uno que no esté en el diccionario para verificar el mensaje de error."
   ]
  },
  {
   "cell_type": "code",
   "execution_count": 8,
   "metadata": {},
   "outputs": [
    {
     "name": "stdout",
     "output_type": "stream",
     "text": [
      "Edad de Alberto: 19\n"
     ]
    }
   ],
   "source": [
    "edades = {'Júlia': 16, 'Carol': 23, 'Alberto': 19, 'Roberta': 17}\n",
    "clave = input(\"Ingresa el nombre a buscar: \")\n",
    "try:\n",
    "    edad = edades[clave]\n",
    "except KeyError:\n",
    "    print(\"Nombre no encontrado\")\n",
    "else:\n",
    "    print(f\"Edad de {clave}: {edad}\")"
   ]
  },
  {
   "cell_type": "markdown",
   "metadata": {},
   "source": [
    "3 - Crea una función que reciba una lista como parámetro y convierta todos los valores de la lista a flotantes. La función debe incluir un manejo de error indicando el tipo de error generado y devolver la lista si no ha ocurrido ningún error. Por último, debe tener la cláusula `finally` para imprimir el texto: 'Fin de la ejecución de la función'."
   ]
  },
  {
   "cell_type": "code",
   "execution_count": 12,
   "metadata": {},
   "outputs": [
    {
     "name": "stdout",
     "output_type": "stream",
     "text": [
      "Fin de la ejecución de la función\n"
     ]
    },
    {
     "data": {
      "text/plain": [
       "[4.0, 6.0, 7.0, 9.0, 10.0]"
      ]
     },
     "execution_count": 12,
     "metadata": {},
     "output_type": "execute_result"
    }
   ],
   "source": [
    "def convertir_a_flotante(lista):\n",
    "    try:\n",
    "        return [float(x) for x in lista]\n",
    "    except Exception as e:\n",
    "        print(f\"Error: {e}\")\n",
    "    finally:\n",
    "        print(\"Fin de la ejecución de la función\")\n",
    "\n",
    "numeros = [4, 6, 7, 9, 10] \n",
    "convertir_a_flotante(numeros)"
   ]
  },
  {
   "cell_type": "markdown",
   "metadata": {},
   "source": [
    "4 - Crea una función que reciba dos listas como parámetros y agrupe los elementos uno a uno de las listas, formando una lista de tuplas de 3 elementos. El primer y segundo elemento de la tupla son los valores en la posición `i` de las listas y el tercer elemento es la suma de los valores en la posición `i` de las listas.\n",
    "\n",
    "La función debe incluir un manejo de error indicando el tipo de error generado y devolver como resultado la lista de tuplas. Si las listas enviadas como parámetro tienen tamaños diferentes, la función debe devolver un IndexError con la frase: 'La cantidad de elementos en cada lista es diferente.'.\n",
    "\n",
    "Datos para probar la función:\n",
    "\n",
    "Valores sin error:\n",
    "~~~python\n",
    "lista1 = [4, 6, 7, 9, 10]\n",
    "lista2 = [-4, 6, 8, 7, 9]\n",
    "~~~\n",
    "Listas con tamaños diferentes:\n",
    "~~~python\n",
    "lista1 = [4, 6, 7, 9, 10, 4]\n",
    "lista2 = [-4, 6, 8, 7, 9]\n",
    "~~~\n",
    "Listas con valores incoherentes:\n",
    "~~~python\n",
    "lista1 = [4, 6, 7, 9, 'A']\n",
    "lista2 = [-4, 'E', 8, 7, 9]\n",
    "~~~"
   ]
  },
  {
   "cell_type": "code",
   "execution_count": 19,
   "metadata": {},
   "outputs": [
    {
     "name": "stdout",
     "output_type": "stream",
     "text": [
      "[(4, -4, 0), (6, 6, 12), (7, 8, 15), (9, 7, 16), (10, 9, 19)]\n"
     ]
    }
   ],
   "source": [
    "def agrupar_listas(lista1, lista2):\n",
    "    try:\n",
    "        if len(lista1) != len(lista2):\n",
    "            raise IndexError(\"La cantidad de elementos en cada lista es diferente.\")\n",
    "        return [(a, b, a + b) for a, b in zip(lista1, lista2)]\n",
    "    except Exception as e:\n",
    "        print(f\"Error: {e}\")\n",
    "\n",
    "lista1 = [4, 6, 7, 9, 10]\n",
    "lista2 = [-4, 6, 8, 7, 9]\n",
    "print(agrupar_listas(lista1,lista2))"
   ]
  },
  {
   "cell_type": "markdown",
   "metadata": {},
   "source": [
    "<font color=green> **Aplicando a proyectos**"
   ]
  },
  {
   "cell_type": "markdown",
   "metadata": {},
   "source": [
    "5 - Como desafío, se te ha asignado la tarea de desarrollar un código que contabiliza las puntuaciones de estudiantes de una institución educativa de acuerdo con sus respuestas en una prueba. Este código debe ser probado para un ejemplo de 3 estudiantes con una lista de listas en la que cada lista tiene las respuestas de 5 preguntas objetivas de cada estudiante. Cada pregunta vale un punto y las alternativas posibles son A, B, C o D.\n",
    "\n",
    "Si alguna alternativa en una de las pruebas no está entre las alternativas posibles, debes lanzar un ValueError con el mensaje \"La alternativa \\[alternativa] no es una opción de alternativa válida\". El cálculo de las 3 notas solo se realizará mediante las entradas con las alternativas A, B, C o D en todas las pruebas. Si no se lanza la excepción, se mostrará una lista con las notas en cada prueba.\n",
    "\n",
    "Datos para la prueba del código:\n",
    "\n",
    "Respuestas de la prueba:\n",
    "~~~python\n",
    "respuestas = ['D', 'A', 'B', 'C', 'A']\n",
    "~~~\n",
    "A continuación, hay 2 listas de listas que puedes usar como prueba:\n",
    "\n",
    "Notas sin excepción:\n",
    "~~~python\n",
    "tests_sin_ex = [['D', 'A', 'B', 'C', 'A'], ['C', 'A', 'A', 'C', 'A'], ['D', 'B', 'A', 'C', 'A']]\n",
    "~~~\n",
    "Notas con excepción:\n",
    "~~~python\n",
    "tests_con_ex = [['D', 'A', 'B', 'C', 'A'], ['C', 'A', 'A', 'E', 'A'], ['D', 'B', 'A', 'C', 'A']]\n",
    "~~~"
   ]
  },
  {
   "cell_type": "code",
   "execution_count": 52,
   "metadata": {},
   "outputs": [
    {
     "data": {
      "text/plain": [
       "[5, 3, 3]"
      ]
     },
     "execution_count": 52,
     "metadata": {},
     "output_type": "execute_result"
    }
   ],
   "source": [
    "def evaluar_pruebas(respuestas_correctas, tests):\n",
    "    try:\n",
    "        for test in tests:\n",
    "            for respuesta in test:\n",
    "                if respuesta not in ['A', 'B', 'C', 'D']:\n",
    "                    raise ValueError(f\"La alternativa {respuesta} no es una opción de alternativa válida\")\n",
    "        notas = []\n",
    "        for test in tests:\n",
    "            nota = sum([1 for r, c in zip(test, respuestas_correctas) if r == c])\n",
    "            notas.append(nota)\n",
    "        return notas\n",
    "    except ValueError as e:\n",
    "        print(f\"Error: {e}\")\n",
    "\n",
    "respuestas = ['D', 'A', 'B', 'C', 'A']\n",
    "tests_sin_ex = [['D', 'A', 'B', 'C', 'A'], ['C', 'A', 'A', 'C', 'A'], ['D', 'B', 'A', 'C', 'A']]\n",
    "tests_con_ex = [['D', 'A', 'B', 'C', 'A'], ['C', 'A', 'A', 'E', 'A'], ['D', 'B', 'A', 'C', 'A']]\n",
    "\n",
    "evaluar_pruebas(respuestas, tests_sin_ex)"
   ]
  },
  {
   "cell_type": "markdown",
   "metadata": {},
   "source": [
    "6 - Estás trabajando con procesamiento de lenguaje natural (NLP) y, en esta ocasión, tu líder te pidió que crees un fragmento de código que reciba una lista con las palabras separadas de una frase generada por ChatGPT.\n",
    "\n",
    "Necesitas crear una función que evalúe cada palabra de este texto y verifique si el tratamiento para quitar los símbolos de puntuación (',', '.', '!' y '?') se realizó. De lo contrario, se lanzará una excepción del tipo ValueError señalando el primer caso en que se detectó el uso de una puntuación a través de la frase \"El texto presenta puntuaciones en la palabra \"\\[palabra]\"\". Esta solicitud se centra en el análisis del patrón de frases generadas por la inteligencia artificial.\n",
    "\n",
    "Datos para probar el código:\n",
    "\n",
    "Lista tratada:\n",
    "~~~python\n",
    "lista_tratada = ['Python', 'es', 'un', 'lenguaje', 'de', 'programación', 'poderoso', 'versátil',\n",
    "                  'y', 'fácil', 'de', 'aprender', 'utilizado', 'en', 'diversos', 'campos', 'desde',\n",
    "                  'análisis', 'de', 'datos', 'hasta', 'inteligencia', 'artificial']\n",
    "~~~\n",
    "Lista no tratada:\n",
    "~~~python\n",
    "lista_no_tratada = ['Python', 'es', 'un', 'lenguaje', 'de', 'programación', 'poderoso,', 'versátil',\n",
    "                  'y', 'fácil,', 'de', 'aprender', 'utilizado', 'en', 'diversos', 'campos,', 'desde',\n",
    "                  'análisis', 'de', 'datos', 'hasta', 'inteligencia', 'artificial!']\n",
    "~~~"
   ]
  },
  {
   "cell_type": "code",
   "execution_count": 53,
   "metadata": {},
   "outputs": [
    {
     "name": "stdout",
     "output_type": "stream",
     "text": [
      "Error: El texto presenta puntuaciones en la palabra \"poderoso,\"\n"
     ]
    }
   ],
   "source": [
    "def verificar_puntuacion(lista_palabras):\n",
    "    try:\n",
    "        for palabra in lista_palabras:\n",
    "            for simbolo in [',', '.', '!', '?']:\n",
    "                if simbolo in palabra:\n",
    "                    raise ValueError(f'El texto presenta puntuaciones en la palabra \"{palabra}\"')\n",
    "        print(\"Texto sin puntuación. Todo correcto.\")\n",
    "    except ValueError as e:\n",
    "        print(f\"Error: {e}\")\n",
    "\n",
    "lista_no_tratada = ['Python', 'es', 'un', 'lenguaje', 'de', 'programación', 'poderoso,', 'versátil',\n",
    "                    'y', 'fácil,', 'de', 'aprender', 'utilizado', 'en', 'diversos', 'campos,', 'desde',\n",
    "                    'análisis', 'de', 'datos', 'hasta', 'inteligencia', 'artificial!']\n",
    "\n",
    "verificar_puntuacion(lista_no_tratada)"
   ]
  }
 ],
 "metadata": {
  "kernelspec": {
   "display_name": "env",
   "language": "python",
   "name": "python3"
  },
  "language_info": {
   "codemirror_mode": {
    "name": "ipython",
    "version": 3
   },
   "file_extension": ".py",
   "mimetype": "text/x-python",
   "name": "python",
   "nbconvert_exporter": "python",
   "pygments_lexer": "ipython3",
   "version": "3.13.0"
  }
 },
 "nbformat": 4,
 "nbformat_minor": 2
}
