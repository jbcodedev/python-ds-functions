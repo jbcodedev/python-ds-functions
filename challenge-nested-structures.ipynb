{
 "cells": [
  {
   "cell_type": "markdown",
   "metadata": {},
   "source": [
    "# <font color=green> Challenge : Estructuras anidadas con Python"
   ]
  },
  {
   "cell_type": "markdown",
   "metadata": {},
   "source": [
    "1 - Crea un código para imprimir la suma de los elementos de cada una de las listas contenidas en la siguiente lista:\n",
    "~~~python\n",
    "lista_de_listas = [[4, 6, 5, 9], [1, 0, 7, 2], [3, 4, 1, 8]]\n",
    "~~~"
   ]
  },
  {
   "cell_type": "code",
   "execution_count": 5,
   "metadata": {},
   "outputs": [
    {
     "name": "stdout",
     "output_type": "stream",
     "text": [
      "24\n",
      "10\n",
      "16\n"
     ]
    }
   ],
   "source": [
    "lista_de_listas = [[4, 6, 5, 9], [1, 0, 7, 2], [3, 4, 1, 8]]\n",
    "\n",
    "for lista in lista_de_listas:\n",
    "    print(sum(lista))"
   ]
  },
  {
   "cell_type": "markdown",
   "metadata": {},
   "source": [
    "2 - Crea un código para generar una lista que almacene el tercer elemento de cada tupla contenida en la siguiente lista de tuplas:\n",
    "~~~python\n",
    "lista_de_tuplas = [('Pedro', 1.74, 81), ('Júlia', 1.65, 67), ('Otávio', 1.81, 83)]\n",
    "~~~"
   ]
  },
  {
   "cell_type": "code",
   "execution_count": 6,
   "metadata": {},
   "outputs": [
    {
     "name": "stdout",
     "output_type": "stream",
     "text": [
      "[81, 67, 83]\n"
     ]
    }
   ],
   "source": [
    "lista_de_tuplas = [('Pedro', 1.74, 81), ('Júlia', 1.65, 67), ('Otávio', 1.81, 83)]\n",
    "\n",
    "lista = []\n",
    "for tupla in lista_de_tuplas:\n",
    "    lista.append(tupla[2])\n",
    "print(lista)"
   ]
  },
  {
   "cell_type": "markdown",
   "metadata": {},
   "source": [
    "3 - A partir de la lista: `lista = ['Pedro', 'Júlia', 'Otávio', 'Eduardo']`, crea un código para generar una lista de tuplas en la que cada tupla tenga el primer elemento como la posición del nombre en la lista original y el segundo elemento siendo el propio nombre."
   ]
  },
  {
   "cell_type": "code",
   "execution_count": 8,
   "metadata": {},
   "outputs": [
    {
     "name": "stdout",
     "output_type": "stream",
     "text": [
      "[(0, 'Pedro'), (1, 'Júlia'), (2, 'Otávio'), (3, 'Eduardo')]\n"
     ]
    }
   ],
   "source": [
    "lista = ['Pedro', 'Júlia', 'Otávio', 'Eduardo']\n",
    "\n",
    "lista_tuplas = []\n",
    "for i in range(len(lista)):\n",
    "    lista_tuplas.append((i,lista[i]))\n",
    "print(lista_tuplas)"
   ]
  },
  {
   "cell_type": "markdown",
   "metadata": {},
   "source": [
    "4 - Crea una lista usando la comprensión de listas (`list comprehension`) que almacene solo el valor numérico de cada tupla en caso de que el primer elemento sea 'Apartamento', a partir de la siguiente lista de tuplas:\n",
    "~~~python\n",
    "alquiler = [('Apartamento', 1700), ('Apartamento', 1400), ('Casa', 2150), ('Apartamento', 1900), ('Casa', 1100)]\n",
    "~~~"
   ]
  },
  {
   "cell_type": "code",
   "execution_count": 10,
   "metadata": {},
   "outputs": [
    {
     "name": "stdout",
     "output_type": "stream",
     "text": [
      "[1700, 1400, 1900]\n"
     ]
    }
   ],
   "source": [
    "alquiler = [('Apartamento', 1700), ('Apartamento', 1400), ('Casa', 2150), ('Apartamento', 1900), ('Casa', 1100)]\n",
    "\n",
    "lista = [tupla[1] for tupla in alquiler if tupla[0] == 'Apartamento']\n",
    "print(lista)"
   ]
  },
  {
   "cell_type": "markdown",
   "metadata": {},
   "source": [
    "5 - Crea un diccionario usando la comprensión de diccionarios (`dict comprehension`) en el que las claves estén en la lista `meses = ['Jan', 'Fev', 'Mar', 'Abr', 'Mai', 'Jun', 'Jul', 'Ago', 'Set', 'Out', 'Nov', 'Dez']` y los valores estén en `gasto = [860, 490, 1010, 780, 900, 630, 590, 770, 620, 560, 840, 360]`."
   ]
  },
  {
   "cell_type": "code",
   "execution_count": 13,
   "metadata": {},
   "outputs": [
    {
     "name": "stdout",
     "output_type": "stream",
     "text": [
      "{'Jan': 860, 'Fev': 490, 'Mar': 1010, 'Abr': 780, 'Mai': 900, 'Jun': 630, 'Jul': 590, 'Ago': 770, 'Set': 620, 'Out': 560, 'Nov': 840, 'Dez': 360}\n"
     ]
    }
   ],
   "source": [
    "meses = ['Jan', 'Fev', 'Mar', 'Abr', 'Mai', 'Jun', 'Jul', 'Ago', 'Set', 'Out', 'Nov', 'Dez']\n",
    "gasto = [860, 490, 1010, 780, 900, 630, 590, 770, 620, 560, 840, 360]\n",
    "\n",
    "diccionario = {meses[i]: gasto[i] for i in range(len(meses))}\n",
    "print(diccionario)"
   ]
  },
  {
   "cell_type": "markdown",
   "metadata": {},
   "source": [
    "6 - Una tienda tiene una base de datos con la información de venta de cada representante y de cada año y necesita filtrar solo los datos del año 2022 con ventas mayores a 6000. La tienda proporcionó una muestra con solo las columnas de los años y los valores de venta para que puedas ayudar a realizar la filtración de los datos a través de un código:\n",
    "~~~python\n",
    "ventas = [('2023', 4093), ('2021', 4320), ('2021', 5959), ('2022', 8883), ('2023', 9859), ('2022', 5141), ('2022', 7688), ('2022', 9544), ('2023', 4794), ('2021', 7178), ('2022', 3030), ('2021', 7471), ('2022', 4226), ('2022', 8190), ('2021', 9680), ('2022', 5616)]\n",
    "~~~\n",
    "Crea una lista usando la comprensión de listas para filtrar los valores de 2022 que sean mayores a 6000."
   ]
  },
  {
   "cell_type": "code",
   "execution_count": 14,
   "metadata": {},
   "outputs": [
    {
     "name": "stdout",
     "output_type": "stream",
     "text": [
      "[8883, 7688, 9544, 8190]\n"
     ]
    }
   ],
   "source": [
    "ventas = [('2023', 4093), ('2021', 4320), ('2021', 5959), ('2022', 8883), ('2023', 9859), ('2022', 5141), ('2022', 7688), ('2022', 9544), ('2023', 4794), ('2021', 7178), ('2022', 3030), ('2021', 7471), ('2022', 4226), ('2022', 8190), ('2021', 9680), ('2022', 5616)]\n",
    "\n",
    "filtro = [tupla[1] for tupla in ventas if tupla[0] == '2022' and tupla[1] > 6000]\n",
    "print(filtro)"
   ]
  },
  {
   "cell_type": "markdown",
   "metadata": {},
   "source": [
    "7 - Una clínica analiza datos de pacientes y almacena el valor numérico de la glucosa en una base de datos y le gustaría etiquetar los datos de la siguiente manera:\n",
    "\n",
    "* Glucosa igual o inferior a 70: 'Hipoglicemia'\n",
    "* Glucosa entre 70 y 99: 'Normal'\n",
    "* Glucosa entre 100 y 125: 'Alterada'\n",
    "* Glucosa superior a 125: 'Diabetes'\n",
    "\n",
    "La clínica proporcionó parte de los valores y tu tarea es crear una lista de tuplas usando la comprensión de listas que contenga la etiqueta y el valor de la glucemia en cada tupla.\n",
    "~~~python\n",
    "glicemia = [129, 82, 60, 97, 101, 65, 62, 167, 87, 53, 58, 92, 66, 120, 109, 62, 86, 96, 103, 88, 155, 52, 89, 73]\n",
    "~~~"
   ]
  },
  {
   "cell_type": "code",
   "execution_count": 15,
   "metadata": {},
   "outputs": [
    {
     "name": "stdout",
     "output_type": "stream",
     "text": [
      "[('Diabetes', 129), ('Normal', 82), ('Hipoglicemia', 60), ('Normal', 97), ('Alterada', 101), ('Hipoglicemia', 65), ('Hipoglicemia', 62), ('Diabetes', 167), ('Normal', 87), ('Hipoglicemia', 53), ('Hipoglicemia', 58), ('Normal', 92), ('Hipoglicemia', 66), ('Alterada', 120), ('Alterada', 109), ('Hipoglicemia', 62), ('Normal', 86), ('Normal', 96), ('Alterada', 103), ('Normal', 88), ('Diabetes', 155), ('Hipoglicemia', 52), ('Normal', 89), ('Normal', 73)]\n"
     ]
    }
   ],
   "source": [
    "glicemia = [129, 82, 60, 97, 101, 65, 62, 167, 87, 53, 58, 92, 66, 120, 109, 62, 86, 96, 103, 88, 155, 52, 89, 73]\n",
    "\n",
    "etiquetas = [('Hipoglicemia', glucosa) if glucosa <= 70 else ('Normal', glucosa) if glucosa < 100 else ('Alterada', glucosa) if glucosa < 125 else ('Diabetes', glucosa) for glucosa in glicemia]\n",
    "print(etiquetas)"
   ]
  },
  {
   "cell_type": "markdown",
   "metadata": {},
   "source": [
    "8 - Un comercio electrónico tiene información de id de venta, cantidad vendida y precio del producto divididos en las siguientes listas:\n",
    "~~~python\n",
    "id = [0, 1, 2, 3, 4, 5, 6, 7, 8, 9]\n",
    "cantidad = [15, 12, 1, 15, 2, 11, 2, 12, 2, 4]\n",
    "precio = [93.0, 102.0, 18.0, 41.0, 122.0, 14.0, 71.0, 48.0, 14.0, 144.0]\n",
    "~~~\n",
    "La plataforma necesita estructurar estos datos en una tabla que contenga el valor total de la venta, que se obtiene multiplicando la cantidad por el precio unitario. Además, la tabla debe contener un encabezado indicando las columnas: 'id', 'cantidad', 'precio' y 'total'.\n",
    "\n",
    "Crea una lista de tuplas en la que cada tupla tenga id, cantidad, precio y valor total, siendo la primera tupla el encabezado de la tabla."
   ]
  },
  {
   "cell_type": "code",
   "execution_count": 18,
   "metadata": {},
   "outputs": [
    {
     "name": "stdout",
     "output_type": "stream",
     "text": [
      "[('id', 'cantidad', 'precio', 'total'), (0, 15, 93.0, 1395.0), (1, 12, 102.0, 1224.0), (2, 1, 18.0, 18.0), (3, 15, 41.0, 615.0), (4, 2, 122.0, 244.0), (5, 11, 14.0, 154.0), (6, 2, 71.0, 142.0), (7, 12, 48.0, 576.0), (8, 2, 14.0, 28.0), (9, 4, 144.0, 576.0)]\n"
     ]
    }
   ],
   "source": [
    "id = [0, 1, 2, 3, 4, 5, 6, 7, 8, 9]\n",
    "cantidad = [15, 12, 1, 15, 2, 11, 2, 12, 2, 4]\n",
    "precio = [93.0, 102.0, 18.0, 41.0, 122.0, 14.0, 71.0, 48.0, 14.0, 144.0]\n",
    "\n",
    "tabla = [('id', 'cantidad', 'precio', 'total')]\n",
    "tabla += [(id[i], cantidad[i], precio[i], cantidad[i]*precio[i]) for i in range(len(id))]\n",
    "print(tabla)"
   ]
  },
  {
   "cell_type": "markdown",
   "metadata": {},
   "source": [
    "9 - Una empresa tiene sucursales distribuidas en los estados de la región Sudeste de Brasil. En una de las tablas de registro de las sucursales, hay una columna que contiene la información de a qué estado pertenece: `estados =['CMX', 'OAX', 'PUE', 'PUE', 'CMX', 'PUE', 'OAX', 'OAX', 'OAX', 'CMX', 'CMX', 'PUE', 'OAX', 'CMX', 'VER', 'PUE', 'VER', 'CMX', 'PUE', 'CMX', 'OAX', 'CMX', 'PUE']`.\n",
    "\n",
    "La empresa siempre está abriendo nuevas sucursales, por lo que la tabla está constantemente recibiendo nuevos registros y al gerente le gustaría tener la información actualizada de la cantidad de sucursales en cada estado.\n",
    "\n",
    "A partir de la columna con la información de los estados, crea un diccionario utilizando la comprensión de diccionarios (`dict comprehension`) con la clave siendo el nombre de un estado y el valor siendo la cantidad de veces que aparece el estado en la lista.\n",
    "\n",
    "Consejo: Puedes hacer un paso intermedio para generar una lista de listas en la que cada una de las listas tenga el nombre de solo un estado con valores repetidos."
   ]
  },
  {
   "cell_type": "code",
   "execution_count": 19,
   "metadata": {},
   "outputs": [
    {
     "name": "stdout",
     "output_type": "stream",
     "text": [
      "[['VER', 'VER'], ['CMX', 'CMX', 'CMX', 'CMX', 'CMX', 'CMX', 'CMX', 'CMX'], ['OAX', 'OAX', 'OAX', 'OAX', 'OAX', 'OAX'], ['PUE', 'PUE', 'PUE', 'PUE', 'PUE', 'PUE', 'PUE']]\n",
      "{'VER': 2, 'CMX': 8, 'OAX': 6, 'PUE': 7}\n"
     ]
    }
   ],
   "source": [
    "estados = ['CMX', 'OAX', 'PUE', 'PUE', 'CMX', 'PUE', 'OAX', 'OAX', 'OAX', 'CMX', 'CMX', 'PUE', 'OAX', 'CMX', 'VER', 'PUE', 'VER', 'CMX', 'PUE', 'CMX', 'OAX', 'CMX', 'PUE']\n",
    "\n",
    "# Almacenando los estados sin repetición de valor\n",
    "estados_unicos = list(set(estados))\n",
    "\n",
    "# Creando una lista de listas con valores repetidos de cada estado\n",
    "lista_de_listas = []\n",
    "for estado in estados_unicos:\n",
    "    lista = [e for e in estados if e == estado]\n",
    "    lista_de_listas.append(lista)\n",
    "print(lista_de_listas)\n",
    "\n",
    "# Creando un diccionario en el que la clave es el nombre de cada estado único y el valor es la cantidad de elementos\n",
    "conteo_valores = {estados_unicos[i]: len(lista_de_listas[i]) for i in range(len(estados_unicos))}\n",
    "print(conteo_valores)"
   ]
  },
  {
   "cell_type": "markdown",
   "metadata": {},
   "source": [
    "10 - En esa misma tabla de registro de sucursales, hay una columna con la información de la cantidad de personas empleadas y el gerente quisiera tener un agrupamiento de la suma de esas personas para cada estado. Las informaciones contenidas en la tabla son:\n",
    "~~~python\n",
    "empleados = [('CMX', 16), ('OAX', 8), ('PUE', 9), ('PUE', 6), ('CMX', 10), ('PUE', 4), ('OAX',9),  ('OAX', 7), ('OAX', 12), ('CMX', 7), ('CMX', 11), ('PUE',8), ('OAX',8), ('CMX',9), ('VER', 13), ('PUE', 5),  ('VER', 9), ('CMX', 12), ('PUE', 10), ('CMX', 7), ('OAX', 14), ('CMX', 10), ('PUE', 12)]\n",
    "~~~\n",
    "A partir de la lista de tuplas, crea un diccionario en el que las claves son los nombres de los estados únicos y los valores son las listas con el número de empleados referentes al estado. También crea un diccionario en el que las claves son los nombres de los estados y los valores son la suma de empleados por estado."
   ]
  },
  {
   "cell_type": "code",
   "execution_count": 20,
   "metadata": {},
   "outputs": [
    {
     "name": "stdout",
     "output_type": "stream",
     "text": [
      "[[13, 9], [16, 10, 7, 11, 9, 12, 7, 10], [8, 9, 7, 12, 8, 14], [9, 6, 4, 8, 5, 10, 12]]\n",
      "{'VER': [13, 9], 'CMX': [16, 10, 7, 11, 9, 12, 7, 10], 'OAX': [8, 9, 7, 12, 8, 14], 'PUE': [9, 6, 4, 8, 5, 10, 12]}\n",
      "{'VER': 22, 'CMX': 82, 'OAX': 58, 'PUE': 54}\n"
     ]
    }
   ],
   "source": [
    "empleados = [('CMX', 16), ('OAX', 8), ('PUE', 9), ('PUE', 6), ('CMX', 10), ('PUE', 4), ('OAX',9),  ('OAX', 7), ('OAX', 12), ('CMX', 7), ('CMX', 11), ('PUE',8), ('OAX',8), ('CMX',9), ('VER', 13), ('PUE', 5),  ('VER', 9), ('CMX', 12), ('PUE', 10), ('CMX', 7), ('OAX', 14), ('CMX', 10), ('PUE', 12)]\n",
    "\n",
    "# Almacenando los estados sin repetición de valor\n",
    "estados_unicos = list(set([tupla[0] for tupla in empleados]))\n",
    "\n",
    "# Creando una lista de listas con valores de empleados de cada estado\n",
    "lista_de_listas = []\n",
    "for estado in estados_unicos:\n",
    "    lista = [tupla[1] for tupla in empleados if tupla[0] == estado]\n",
    "    lista_de_listas.append(lista)\n",
    "print(lista_de_listas)\n",
    "\n",
    "# Creando un diccionario con datos agrupados de empleados por estado\n",
    "agrupamiento_por_estado = {estados_unicos[i]: lista_de_listas[i] for i in range(len(estados_unicos))}\n",
    "print(agrupamiento_por_estado)\n",
    "\n",
    "# Creando un diccionario con la suma de empleados por estado\n",
    "suma_por_estado = {estados_unicos[i]: sum(lista_de_listas[i]) for i in range(len(estados_unicos))}\n",
    "print(suma_por_estado)"
   ]
  }
 ],
 "metadata": {
  "kernelspec": {
   "display_name": "env",
   "language": "python",
   "name": "python3"
  },
  "language_info": {
   "codemirror_mode": {
    "name": "ipython",
    "version": 3
   },
   "file_extension": ".py",
   "mimetype": "text/x-python",
   "name": "python",
   "nbconvert_exporter": "python",
   "pygments_lexer": "ipython3",
   "version": "3.13.0"
  }
 },
 "nbformat": 4,
 "nbformat_minor": 2
}
