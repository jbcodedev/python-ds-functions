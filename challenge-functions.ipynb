{
 "cells": [
  {
   "cell_type": "markdown",
   "metadata": {},
   "source": [
    "# <font color=green> Challenge : Funciones en Python DS"
   ]
  },
  {
   "cell_type": "markdown",
   "metadata": {},
   "source": [
    "<font color=green> **Calentamiento**"
   ]
  },
  {
   "cell_type": "markdown",
   "metadata": {},
   "source": [
    "1 - Escribe un código que lee la lista siguiente y realiza:\n",
    "~~~markdown\n",
    "lista = [16, 14, 63, 65, 17, 99, 70, 11, 20, 48, 79, 32, 17, 89, 12, 25, 66]\n",
    "# 1. Leer el tamaño de la lista\n",
    "# 2. Leer el valor máximo y mínimo\n",
    "# 3. Calcular la suma de los valores de la lista\n",
    "# 4. Mostrar un mensaje al final: La lista tiene `tamano` números, donde el mayor \n",
    "# es `mayor` y el menor es `menor`. La suma de los valores es `suma`.\n",
    "~~~"
   ]
  },
  {
   "cell_type": "code",
   "execution_count": 2,
   "metadata": {},
   "outputs": [
    {
     "name": "stdout",
     "output_type": "stream",
     "text": [
      "La lista tiene 17 números, donde el mayor es 99 y el menor es 11. La suma de los valores es 743\n"
     ]
    }
   ],
   "source": [
    "lista = [16, 14, 63, 65, 17, 99, 70, 11, 20, 48, 79, 32, 17, 89, 12, 25, 66]\n",
    "tam = len(lista)\n",
    "mayor = max(lista)\n",
    "menor = min(lista)\n",
    "suma = sum(lista)\n",
    "print(f'La lista tiene {tam} números, donde el mayor es {mayor} y el menor es {menor}. La suma de los valores es {suma}')"
   ]
  },
  {
   "cell_type": "markdown",
   "metadata": {},
   "source": [
    "2 - Escribe una función que genere la tabla de multiplicar de un número entero del 1 al 10, según la elección del usuario. Como ejemplo, para el número 7, la tabla de multiplicar se debe mostrar en el siguiente formato:\n",
    "~~~markdown\n",
    "# Tabla del  7:\n",
    "# 7 x 0 = 0\n",
    "# 7 x 1 = 7\n",
    "# [...]\n",
    "# 7 x 10 = 70\n",
    "~~~"
   ]
  },
  {
   "cell_type": "code",
   "execution_count": 5,
   "metadata": {},
   "outputs": [
    {
     "name": "stdout",
     "output_type": "stream",
     "text": [
      "Tabla de multiplicar del 7\n",
      "7x0=0\n",
      "7x1=7\n",
      "7x2=14\n",
      "7x3=21\n",
      "7x4=28\n",
      "7x5=35\n",
      "7x6=42\n",
      "7x7=49\n",
      "7x8=56\n",
      "7x9=63\n",
      "7x10=70\n"
     ]
    }
   ],
   "source": [
    "def tabla_multiplicar(numero):\n",
    "    print(f'Tabla de multiplicar del {numero}')\n",
    "    for i in range(11):\n",
    "        print(f'{numero}x{i}={numero*i}')\n",
    "\n",
    "tabla_multiplicar(7)"
   ]
  },
  {
   "cell_type": "markdown",
   "metadata": {},
   "source": [
    "3 - Crea una función que lea la siguiente lista y devuelva una nueva lista con los múltiplos de 3:\n",
    "~~~markdown\n",
    "[97, 80, 94, 88, 80, 1, 16, 53, 62, 32, 24, 99]\n",
    "~~~"
   ]
  },
  {
   "cell_type": "code",
   "execution_count": 11,
   "metadata": {},
   "outputs": [
    {
     "name": "stdout",
     "output_type": "stream",
     "text": [
      "[24, 99]\n"
     ]
    }
   ],
   "source": [
    "def obtener_multiplos(lista, divisor):\n",
    "    multiplos = []\n",
    "    for numero in lista:\n",
    "        if numero % divisor == 0:\n",
    "            multiplos.append(numero)\n",
    "    return multiplos\n",
    "\n",
    "lista_original = [97, 80, 94, 88, 80, 1, 16, 53, 62, 32, 24, 99]\n",
    "\n",
    "numero_usuario = int(input('Ingrese el numero para encontrar sus multiplos'))\n",
    "resultado = obtener_multiplos(lista_original,numero_usuario)\n",
    "print(resultado)"
   ]
  },
  {
   "cell_type": "markdown",
   "metadata": {},
   "source": [
    "4 - Crea una lista de los cuadrados de los números de la siguiente lista \\[1, 2, 3, 4, 5, 6, 7, 8, 9, 10]. Recuerda utilizar las funciones lambda y map() para calcular el cuadrado de cada elemento de la lista."
   ]
  },
  {
   "cell_type": "code",
   "execution_count": 15,
   "metadata": {},
   "outputs": [
    {
     "name": "stdout",
     "output_type": "stream",
     "text": [
      "[1, 2, 3, 4, 5, 6, 7, 8, 9, 10]\n",
      "[1, 4, 9, 16, 25, 36, 49, 64, 81, 100]\n"
     ]
    }
   ],
   "source": [
    "lista = [1, 2, 3, 4, 5, 6, 7, 8, 9, 10]\n",
    "cuadrados = list(map(lambda x: x**2, lista))\n",
    "print(lista)\n",
    "print(cuadrados)"
   ]
  },
  {
   "cell_type": "markdown",
   "metadata": {},
   "source": [
    "<font color=green> **Aplicando a proyectos**"
   ]
  },
  {
   "cell_type": "markdown",
   "metadata": {},
   "source": [
    "5 - Has sido contratado como científico(a) de datos de una asociación de skate. Para analizar las notas recibidas por los skaters en algunas competiciones a lo largo del año, necesitas crear un código que calcule la puntuación de los atletas. Para ello, tu código debe recibir 5 notas ingresadas por los jueces."
   ]
  },
  {
   "cell_type": "code",
   "execution_count": 34,
   "metadata": {},
   "outputs": [
    {
     "name": "stdout",
     "output_type": "stream",
     "text": [
      "La puntuacion final del skater es 5.2\n"
     ]
    }
   ],
   "source": [
    "def calculo_puntuacion_skater():\n",
    "    notas = []\n",
    "    for i in range(5):\n",
    "        nota = float(input(f'Ingrese la nota del juez #{i+1}'))\n",
    "        if 0 <= nota <= 10:\n",
    "            notas.append(nota)\n",
    "        else:\n",
    "            print('Nota fuera de rango')\n",
    "    promedio = sum(notas) / len(notas)\n",
    "    return print(f'La puntuacion final del skater es {promedio}')\n",
    "\n",
    "calculo_puntuacion_skater()"
   ]
  },
  {
   "cell_type": "markdown",
   "metadata": {},
   "source": [
    "6 - Para cumplir con una demanda de una institución educativa para el análisis del rendimiento de sus estudiantes, necesitas crear una función que reciba una lista de 4 notas y devuelva:\n",
    "~~~markdown\n",
    "# mayor nota\n",
    "# menor nota\n",
    "# media\n",
    "# situación (Aprobado(a) o Reprobado(a))\n",
    "# Uso de la función\n",
    "# Mostrar: El estudiante obtuvo una media de `media`, con la mayor nota de `mayor` puntos y la menor nota de `menor` puntos y fue `situacion`.)\n",
    "~~~"
   ]
  },
  {
   "cell_type": "code",
   "execution_count": 47,
   "metadata": {},
   "outputs": [
    {
     "name": "stdout",
     "output_type": "stream",
     "text": [
      "Se ingreso la nota #1 --> 17.0\n",
      "Se ingreso la nota #2 --> 18.0\n",
      "Se ingreso la nota #3 --> 19.0\n",
      "Se ingreso la nota #4 --> 16.0\n"
     ]
    },
    {
     "data": {
      "text/plain": [
       "'El estudiante obtuvo una media de 17.5, con la mayor nota de 19.0 y la menor nota de 16.0 puntos y fue Aprobado'"
      ]
     },
     "execution_count": 47,
     "metadata": {},
     "output_type": "execute_result"
    }
   ],
   "source": [
    "def calculo_notas():\n",
    "    notas = []\n",
    "    for i in range(4):\n",
    "        nota = float(input(f'Ingrese la nota #{i+1}'))\n",
    "        print(f'Se ingreso la nota #{i+1} --> {nota}')\n",
    "\n",
    "        if nota >= 1 and nota <= 20:\n",
    "            notas.append(nota)\n",
    "        else:\n",
    "            print('Ingrese una nota valida')\n",
    "\n",
    "        if nota >= 12:\n",
    "            situacion = 'Aprobado'\n",
    "        else:\n",
    "            situacion = 'Desaprobado'\n",
    "        \n",
    "    mayor = max(notas)\n",
    "    menor = min(notas)\n",
    "    media = sum(notas)/len(notas)\n",
    "    return f'El estudiante obtuvo una media de {media}, con la mayor nota de {mayor} y la menor nota de {menor} puntos y fue {situacion}'\n",
    "\n",
    "calculo_notas()    "
   ]
  },
  {
   "cell_type": "markdown",
   "metadata": {},
   "source": [
    "7 - Has recibido una demanda para tratar 2 listas con los nombres y apellidos de cada estudiante concatenándolos para presentar sus nombres completos en la forma Nombre Apellido. Las listas son:\n",
    "~~~markdown\n",
    "nombres = [\"juan\", \"MaRia\", \"JOSÉ\"]\n",
    "apellidos = [\"SILVA\", \"sosa\", \"Tavares\"]\n",
    "\n",
    "# Normalizar nombres y apellidos y crear una nueva lista con los nombres completos\n",
    "# Puedes apoyarte en la función map()\n",
    "~~~"
   ]
  },
  {
   "cell_type": "code",
   "execution_count": 50,
   "metadata": {},
   "outputs": [
    {
     "name": "stdout",
     "output_type": "stream",
     "text": [
      "['Nombre completo: Juan Silva', 'Nombre completo: Maria Sosa', 'Nombre completo: José Tavares']\n"
     ]
    }
   ],
   "source": [
    "nombres = [\"juan\", \"MaRia\", \"JOSÉ\"]\n",
    "apellidos = [\"SILVA\", \"sosa\", \"Tavares\"]\n",
    "nombres_normalizados = map(lambda x: x.capitalize(), nombres)\n",
    "apellidos_normalizados = map(lambda x: x.capitalize(), apellidos)\n",
    "nombres_completos = list(map(lambda x, y: f\"Nombre completo: {x} {y}\", nombres_normalizados, apellidos_normalizados))\n",
    "print(nombres_completos)"
   ]
  },
  {
   "cell_type": "markdown",
   "metadata": {},
   "source": [
    "8 - Como científico de datos en un equipo de fútbol, necesitas implementar nuevas formas de recopilación de datos sobre el rendimiento de los jugadores y del equipo en su conjunto. Tu primera acción es crear una forma de calcular la puntuación del equipo en el campeonato nacional a partir de los datos de goles marcados y recibidos en cada juego.\n",
    "\n",
    "Escribe una función llamada `calcula_puntos()` que recibe como parámetros dos listas de números enteros, representando los goles marcados y recibidos por el equipo en cada partido del campeonato. La función debe devolver la puntuación del equipo y el rendimiento en porcentaje, teniendo en cuenta que la victoria vale 3 puntos, el empate 1 punto y la derrota 0 puntos.\n",
    "\n",
    "Nota: si la cantidad de goles marcados en un partido es mayor que los recibidos, el equipo ganó. En caso de ser igual, el equipo empató, y si es menor, el equipo perdió. Para calcular el rendimiento, debemos hacer la razón entre la puntuación del equipo y la puntuación máxima que podría recibir.\n",
    "\n",
    "Para la prueba, utiliza las siguientes listas de goles marcados y recibidos:\n",
    "~~~markdown\n",
    "goles_marcados = [2, 1, 3, 1, 0]\n",
    "goles_recibidos = [1, 2, 2, 1, 3]\n",
    "# Texto probablemente mostrado:\n",
    "# La puntuación del equipo fue `puntos` y su rendimiento fue `desempeno`%\"\n",
    "~~~"
   ]
  },
  {
   "cell_type": "code",
   "execution_count": 53,
   "metadata": {},
   "outputs": [
    {
     "name": "stdout",
     "output_type": "stream",
     "text": [
      "La puntuación del equipo fue de 7 y su rendimiento fue de 47%\n"
     ]
    }
   ],
   "source": [
    "goles_marcados = [2, 1, 3, 1, 0]\n",
    "goles_recibidos = [1, 2, 2, 1, 3]\n",
    "\n",
    "def calcula_puntos(goles_marcados, goles_sofridos):\n",
    "  puntos = 0\n",
    "  for i in range(len(goles_marcados)):\n",
    "    if goles_marcados[i] > goles_sofridos[i]:\n",
    "      puntos += 3\n",
    "    elif goles_marcados[i] == goles_sofridos[i]:\n",
    "      puntos += 1\n",
    "  aprob = 100 * puntos / (len(goles_marcados) * 3)\n",
    "  return (puntos, aprob)\n",
    "\n",
    "puntos, aprob = calcula_puntos(goles_marcados, goles_recibidos)\n",
    "print(f\"La puntuación del equipo fue de {puntos} y su rendimiento fue de {round(aprob)}%\")"
   ]
  },
  {
   "cell_type": "markdown",
   "metadata": {},
   "source": [
    "9 - Te han desafiado a crear un código que calcule los gastos de un viaje a una de las cuatro ciudades desde Recife, siendo ellas: Salvador, Fortaleza, Natal y Aracaju.\n",
    "\n",
    "El costo diario del hotel es de 150 reales en todas ellas y el consumo de gasolina en el viaje en coche es de 14 km/l, siendo que el precio de la gasolina es de 5 reales por litro. Los gastos con paseos y alimentación a realizar en cada una de ellas por día serían \\[200, 400, 250, 300], respectivamente.\n",
    "\n",
    "Sabiendo que las distancias entre Recife y cada una de las ciudades son aproximadamente \\[850, 800, 300, 550] km, crea tres funciones: la primera función calcula los gastos de hotel (gasto\\_hotel), la segunda calcula los gastos de gasolina (gasto\\_gasolina) y la tercera los gastos de paseo y alimentación (gasto\\_paseo).\n",
    "\n",
    "Para probar, simula un viaje de 3 días a Salvador desde Recife. Considera el viaje de ida y vuelta en coche.\n",
    "~~~markdown\n",
    "# Texto probablemente mostrado:\n",
    "# Con base en los gastos definidos, un viaje de [dias] días a [ciudad] desde \n",
    "# Recife costaría [gastos] reales.\n",
    "~~~"
   ]
  },
  {
   "cell_type": "code",
   "execution_count": 54,
   "metadata": {},
   "outputs": [
    {
     "name": "stdout",
     "output_type": "stream",
     "text": [
      "Con base en los gastos definidos, un viaje de 3 días a Salvador desde Recife costaría 1657.14 reales\n"
     ]
    }
   ],
   "source": [
    "dias = int(input(\"¿Cuántas diarias? \"))\n",
    "ciudad = input(\"¿Cuál es la ciudad? [Salvador, Fortaleza, Natal o Aracaju]: \")\n",
    "distancias = [850, 800, 300, 550]\n",
    "paseo = [200, 400, 250, 300]\n",
    "km_l = 14\n",
    "gasolina = 5\n",
    "\n",
    "def gasto_hotel(dias):\n",
    "    return 150 * dias\n",
    "\n",
    "def gasto_gasolina(ciudad):\n",
    "    if ciudad == \"Salvador\":\n",
    "        return (2 * distancias[0] * gasolina) / km_l \n",
    "    elif ciudad == \"Fortaleza\":\n",
    "        return (2 * distancias[1] * gasolina) / km_l \n",
    "    elif ciudad == \"Natal\":\n",
    "        return (2 * distancias[2] * gasolina) / km_l \n",
    "    elif ciudad == \"Aracaju\":\n",
    "        return (2 * distancias[3] * gasolina) / km_l \n",
    "\n",
    "def gasto_paseo(ciudad, dias):\n",
    "    if ciudad==\"Salvador\":\n",
    "        return paseo[0] * dias\n",
    "    elif ciudad==\"Fortaleza\":\n",
    "        return paseo[1] * dias\n",
    "    elif ciudad==\"Natal\":\n",
    "        return paseo[2] * dias \n",
    "    elif ciudad==\"Aracaju\":\n",
    "        return paseo[3] * dias \n",
    "\n",
    "gastos = gasto_hotel(dias) + gasto_gasolina(ciudad) + gasto_paseo(ciudad, dias)\n",
    "print(f\"Con base en los gastos definidos, un viaje de {dias} días a {ciudad} desde Recife costaría {round(gastos, 2)} reales\")"
   ]
  },
  {
   "cell_type": "markdown",
   "metadata": {},
   "source": [
    "10 - Has comenzado una pasantía en una empresa que trabaja con procesamiento de lenguaje natural (NLP). Tu líder te solicitó que crees un fragmento de código que reciba una frase escrita por el usuario y filtre solo las palabras con un tamaño mayor o igual a 5, mostrándolas en una lista. Esta demanda se centra en el análisis del patrón de comportamiento de las personas al escribir palabras de esta cantidad de caracteres o más.\n",
    "\n",
    "Consejo: utiliza las funciones lambda y filter() para filtrar estas palabras. Recordando que la función integrada filter() recibe una función (en nuestro caso, una función lambda) y filtra un iterable según la función. Para tratar la frase, utiliza replace() para cambiar ',' '.', '!' y '?' por espacio.\n",
    "\n",
    "Utiliza la frase \"Aprender Python es muy bueno\" para probar el código."
   ]
  },
  {
   "cell_type": "code",
   "execution_count": 55,
   "metadata": {},
   "outputs": [
    {
     "name": "stdout",
     "output_type": "stream",
     "text": [
      "['Aprender', 'Python', 'bueno']\n"
     ]
    }
   ],
   "source": [
    "# Solicitando una frase y separándola por espacios. Usando replace para cambiar puntuaciones por espacios.\n",
    "frase = input(\"Escribe una frase\")\n",
    "frase = frase.replace(',',' ').replace('.',' ').replace('!',' ').replace('?',' ').split()\n",
    "\n",
    "# Filtrando la frase en formato de lista, pasando a la lista tamaño\n",
    "# solo las palabras con 5 o más caracteres e imprimiéndola en pantalla\n",
    "tamano = list(filter(lambda x: len(x) >= 5, frase))\n",
    "print(tamano)"
   ]
  }
 ],
 "metadata": {
  "kernelspec": {
   "display_name": "env",
   "language": "python",
   "name": "python3"
  },
  "language_info": {
   "codemirror_mode": {
    "name": "ipython",
    "version": 3
   },
   "file_extension": ".py",
   "mimetype": "text/x-python",
   "name": "python",
   "nbconvert_exporter": "python",
   "pygments_lexer": "ipython3",
   "version": "3.13.0"
  }
 },
 "nbformat": 4,
 "nbformat_minor": 2
}
