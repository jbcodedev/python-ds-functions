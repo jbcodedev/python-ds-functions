{
  "cells": [
    {
      "cell_type": "markdown",
      "metadata": {
        "id": "AGc2Cf4cBwd7"
      },
      "source": [
        "# <font color=green> **PYTHON PARA DATA SCIENCE**\n",
        "---"
      ]
    },
    {
      "cell_type": "markdown",
      "metadata": {
        "id": "fH2br9y9CYZ8"
      },
      "source": [
        "## <font color=green> 1. BIBLIOTECAS\n",
        "---"
      ]
    },
    {
      "cell_type": "markdown",
      "metadata": {
        "id": "jjEKgfiuFzHz"
      },
      "source": [
        "## 1.1 Instalación e importación de bibliotecas\n",
        "\n",
        "En el lenguaje Python se utiliza bastante el concepto de bibliotecas como un conjunto de módulos y funciones útiles para el usuario. Estas favorecen la reducción del uso de códigos en el proyecto, manteniendo únicamente los recursos necesarios para la tarea que deseamos realizar."
      ]
    },
    {
      "cell_type": "markdown",
      "metadata": {
        "id": "JjpazCgqDRfZ"
      },
      "source": [
        "### Instalando una biblioteca"
      ]
    },
    {
      "cell_type": "markdown",
      "metadata": {
        "id": "_qnuIo7oIQYx"
      },
      "source": [
        "Para instalar o actualizar una biblioteca en Python, podemos acudir a `pip` que es un gestor de bibliotecas en Python."
      ]
    },
    {
      "cell_type": "markdown",
      "metadata": {
        "id": "IHTmQnlXInD1"
      },
      "source": [
        "Existe también PYPI que es un repositorio de bibliotecas Python que contiene las bibliotecas más utilizadas por la comunidad junto a su respectiva documentación.\n",
        "\n",
        "- PYPI ([https://pypi.org/](https://pypi.org/))"
      ]
    },
    {
      "cell_type": "code",
      "execution_count": null,
      "metadata": {
        "id": "Rv5sIo7NM5VS"
      },
      "outputs": [],
      "source": [
        "# !pip install matplotlib"
      ]
    },
    {
      "cell_type": "code",
      "execution_count": null,
      "metadata": {
        "id": "REYsDRqHM6hN"
      },
      "outputs": [],
      "source": [
        "# matplotlib.__version__"
      ]
    },
    {
      "cell_type": "markdown",
      "metadata": {
        "id": "A76TbnDbDehe"
      },
      "source": [
        "### Importando una biblioteca"
      ]
    },
    {
      "cell_type": "code",
      "execution_count": null,
      "metadata": {
        "id": "_xUxLlZFM728"
      },
      "outputs": [],
      "source": [
        "# import matplotlib"
      ]
    },
    {
      "cell_type": "code",
      "execution_count": 1,
      "metadata": {
        "id": "xy035zQzM75b"
      },
      "outputs": [
        {
          "name": "stderr",
          "output_type": "stream",
          "text": [
            "Matplotlib is building the font cache; this may take a moment.\n"
          ]
        }
      ],
      "source": [
        "import matplotlib.pyplot as plt"
      ]
    },
    {
      "cell_type": "markdown",
      "metadata": {
        "id": "oMxkV9-6GXwH"
      },
      "source": [
        "## 1.2 Utilizando módulos/bibliotecas\n",
        "\n",
        "- Documentación de Python (https://docs.python.org/es/3/)"
      ]
    },
    {
      "cell_type": "markdown",
      "metadata": {
        "id": "W1MHaXB2Q7tT"
      },
      "source": [
        "#### Ejemplo 1: Vamos a probar la biblioteca Matplotlib para un ejemplo sobre el cálculo de los promedios de notas de los estudiantes de una clase.\n",
        "\n",
        "(https://matplotlib.org/stable/tutorials/introductory/pyplot.html)"
      ]
    },
    {
      "cell_type": "code",
      "execution_count": null,
      "metadata": {
        "id": "hme-WlDYM-Od"
      },
      "outputs": [],
      "source": [
        "# from matplotlib import pyplot as plt"
      ]
    },
    {
      "cell_type": "code",
      "execution_count": 2,
      "metadata": {
        "id": "mv1h3vJsM-RK"
      },
      "outputs": [],
      "source": [
        "estudiantes = ['Juan','Maria','Jose']\n",
        "notas = [9,8.5,6.5]"
      ]
    },
    {
      "cell_type": "code",
      "execution_count": 3,
      "metadata": {
        "id": "GK77H828M-Zk"
      },
      "outputs": [
        {
          "data": {
            "image/png": "[encoded data removed]",
            "text/plain": [
              "<Figure size 640x480 with 1 Axes>"
            ]
          },
          "metadata": {},
          "output_type": "display_data"
        }
      ],
      "source": [
        "plt.bar(x=estudiantes,height=notas)\n",
        "plt.show()"
      ]
    },
    {
      "cell_type": "markdown",
      "metadata": {
        "id": "5G6u4ZRYRIFZ"
      },
      "source": [
        "#### Ejemplo 2: Vamos a seleccionar aleatoriamente a un alumno para presentar su trabajo de ciencia de datos usando la biblioteca `random`.\n",
        "\n",
        "(https://docs.python.org/es/3/library/random.html)"
      ]
    },
    {
      "cell_type": "code",
      "execution_count": 4,
      "metadata": {
        "id": "Y4o2AvhWNBdM"
      },
      "outputs": [],
      "source": [
        "estudiantes2 = ['Juan','Maria','Jose','Ericka']"
      ]
    },
    {
      "cell_type": "code",
      "execution_count": null,
      "metadata": {
        "id": "9fXfsVnANBiG"
      },
      "outputs": [],
      "source": [
        "# import random"
      ]
    },
    {
      "cell_type": "markdown",
      "metadata": {
        "id": "N-XJrnISGpTN"
      },
      "source": [
        "<font color=green>**Tip:**</font> Podrás notar a medida que avanzas en los ejercicios la importancia de acudir a la documentación para aprender cómo utilizar un método de algún módulo en el lenguaje Python.\n",
        "\n",
        "El método `help()`, por ejemplo, retorna una descripción sobre una variable, método o clase.\n",
        "\n",
        "https://docs.python.org/es/3/library/functions.html?#help"
      ]
    },
    {
      "cell_type": "code",
      "execution_count": 5,
      "metadata": {
        "id": "a2zJCXNUND9X"
      },
      "outputs": [],
      "source": [
        "from random import choice"
      ]
    },
    {
      "cell_type": "code",
      "execution_count": 17,
      "metadata": {
        "id": "2Yvr71PIND_r"
      },
      "outputs": [
        {
          "data": {
            "text/plain": [
              "'Jose'"
            ]
          },
          "execution_count": 17,
          "metadata": {},
          "output_type": "execute_result"
        }
      ],
      "source": [
        "estudiante = choice(estudiantes2)\n",
        "estudiante"
      ]
    },
    {
      "cell_type": "code",
      "execution_count": 18,
      "metadata": {
        "id": "UFfZz4CxNGjU"
      },
      "outputs": [
        {
          "name": "stdout",
          "output_type": "stream",
          "text": [
            "Help on method choice in module random:\n",
            "\n",
            "choice(seq) method of random.Random instance\n",
            "    Choose a random element from a non-empty sequence.\n",
            "\n"
          ]
        }
      ],
      "source": [
        "help(choice)"
      ]
    },
    {
      "cell_type": "markdown",
      "metadata": {
        "id": "2hrSPmlcBwWS"
      },
      "source": [
        "## <font color=green> 2. FUNCIONES\n",
        "---"
      ]
    },
    {
      "cell_type": "markdown",
      "metadata": {
        "id": "gC4lHsW-DREY"
      },
      "source": [
        "En Python, las **funciones** son secuencias de instrucciones que ejecutan tareas específicas, permitiendo su reutilización en diferentes partes del código. Estas pueden recibir parámetros de entrada (que también los conocemos como *inputs*) y también retornar resultados."
      ]
    },
    {
      "cell_type": "markdown",
      "metadata": {
        "id": "Qr_h1_UNEzHZ"
      },
      "source": [
        "## 2.1 Built-in function (Función Incorporada)\n",
        "\n",
        "El interpretador de Python contiene una serie de funciones incorporadas que pueden ser invocadas es cualquier momento. Algunas que vamos a utilizar a lo largo de este curso son: `type()`, `print()`, `list()`, `zip()`, `sum()`, `map()`, etc.\n",
        "\n",
        "***Documentación:***\n",
        "https://docs.python.org/es/3/library/functions.html\n"
      ]
    },
    {
      "cell_type": "markdown",
      "metadata": {
        "id": "MMOJIW3TyLIB"
      },
      "source": [
        "#### **Situación 1:**\n",
        "\n",
        "La institución educativa para la cual nos encontramos trabajando compartió los datos de las notas de un estudiante para que pudiesemos calcular su promedio con una casilla decimal.\n",
        "\n",
        "Los datos recibidos corresponden a un diccionario cuyas llaves indican el trimestre en cuestión y sus valores corresponden a las notas de cada trimestre del estudiante en una respectiva materia."
      ]
    },
    {
      "cell_type": "code",
      "execution_count": 2,
      "metadata": {
        "id": "WQ-pCgdaMOlc"
      },
      "outputs": [],
      "source": [
        "notas = {\n",
        "    '1° Trimestre': 9.5,\n",
        "    '2° Trimestre': 8,\n",
        "    '3° Trimestre': 7\n",
        "}"
      ]
    },
    {
      "cell_type": "code",
      "execution_count": 3,
      "metadata": {
        "id": "GU-HvC-QMOoS"
      },
      "outputs": [
        {
          "name": "stdout",
          "output_type": "stream",
          "text": [
            "24.5\n"
          ]
        }
      ],
      "source": [
        "suma = 0\n",
        "for s in notas.values():\n",
        "    suma += s\n",
        "print(suma)"
      ]
    },
    {
      "cell_type": "code",
      "execution_count": 4,
      "metadata": {
        "id": "qKEyjY2bMOqj"
      },
      "outputs": [
        {
          "data": {
            "text/plain": [
              "8.166666666666666"
            ]
          },
          "execution_count": 4,
          "metadata": {},
          "output_type": "execute_result"
        }
      ],
      "source": [
        "promedio = sum(notas.values())/len(notas)\n",
        "promedio"
      ]
    },
    {
      "cell_type": "markdown",
      "metadata": {
        "id": "JD2z3LW8312E"
      },
      "source": [
        "*Redondear el promedio usando round():*\n",
        "\n",
        "https://docs.python.org/es/3/library/functions.html#round"
      ]
    },
    {
      "cell_type": "code",
      "execution_count": 5,
      "metadata": {
        "id": "c7Cn5XFfMP5E"
      },
      "outputs": [
        {
          "name": "stdout",
          "output_type": "stream",
          "text": [
            "Help on built-in function round in module builtins:\n",
            "\n",
            "round(number, ndigits=None)\n",
            "    Round a number to a given precision in decimal digits.\n",
            "\n",
            "    The return value is an integer if ndigits is omitted or None.  Otherwise\n",
            "    the return value has the same type as the number.  ndigits may be negative.\n",
            "\n"
          ]
        }
      ],
      "source": [
        "help(round)"
      ]
    },
    {
      "cell_type": "code",
      "execution_count": 6,
      "metadata": {
        "id": "eVNPFr0pMRWl"
      },
      "outputs": [
        {
          "data": {
            "text/plain": [
              "8.2"
            ]
          },
          "execution_count": 6,
          "metadata": {},
          "output_type": "execute_result"
        }
      ],
      "source": [
        "promedio = round(promedio,1)\n",
        "promedio"
      ]
    },
    {
      "cell_type": "markdown",
      "metadata": {
        "id": "NCUSezOJIdfy"
      },
      "source": [
        "## 2.2 Creando funciones"
      ]
    },
    {
      "cell_type": "markdown",
      "metadata": {
        "id": "QrTAXwghsg6s"
      },
      "source": [
        "Tras explorar las funciones incorporadas y aprender cómo utilizar algunas de ellas, es posible que tengas la necesidad de resolver un problema específico y estas no sean suficientes.\n",
        "\n",
        "Por este motivo, necesitaremos crear nuestras propias funciones, y aún más, si necesitamos aplicarlas en varias partes de nuestros códigos."
      ]
    },
    {
      "cell_type": "markdown",
      "metadata": {
        "id": "zxyXiX462A_X"
      },
      "source": [
        "### Funciones sin parámetros\n",
        "\n",
        "#### Formato estándar:\n",
        "\n",
        "```python\n",
        "def <nombre>():\n",
        "  <instrucciones>\n",
        "```"
      ]
    },
    {
      "cell_type": "code",
      "execution_count": 7,
      "metadata": {
        "id": "WgWoULpnMSrT"
      },
      "outputs": [],
      "source": [
        "def promedio():\n",
        "    calculo = (10+9+7)/3\n",
        "    print(calculo)"
      ]
    },
    {
      "cell_type": "code",
      "execution_count": 8,
      "metadata": {
        "id": "VKfg0zkDMStp"
      },
      "outputs": [
        {
          "name": "stdout",
          "output_type": "stream",
          "text": [
            "8.666666666666666\n"
          ]
        }
      ],
      "source": [
        "promedio()"
      ]
    },
    {
      "cell_type": "markdown",
      "metadata": {
        "id": "o9AR_DNDFKSD"
      },
      "source": [
        "### Funciones con parámetros\n",
        "\n",
        "#### Formato estándar:\n",
        "\n",
        "```python\n",
        "def <nombre>(<param_1>, <param_2>, ..., <param_n>):\n",
        "  <instrucciones>\n",
        "```"
      ]
    },
    {
      "cell_type": "code",
      "execution_count": 9,
      "metadata": {
        "id": "1QHJXCYsMUx3"
      },
      "outputs": [],
      "source": [
        "def promedio(nota_1,nota_2,nota_3):\n",
        "    calculo = (nota_1+nota_2+nota_3)/3\n",
        "    print(calculo)"
      ]
    },
    {
      "cell_type": "code",
      "execution_count": 10,
      "metadata": {
        "id": "txkkIwheMU0n"
      },
      "outputs": [
        {
          "name": "stdout",
          "output_type": "stream",
          "text": [
            "8.666666666666666\n"
          ]
        }
      ],
      "source": [
        "promedio(10,9,7)"
      ]
    },
    {
      "cell_type": "code",
      "execution_count": 11,
      "metadata": {
        "id": "Pq88ApQEMWK9"
      },
      "outputs": [
        {
          "name": "stdout",
          "output_type": "stream",
          "text": [
            "8.666666666666666\n"
          ]
        }
      ],
      "source": [
        "promedio(nota_1=10,nota_2=9,nota_3=7)"
      ]
    },
    {
      "cell_type": "markdown",
      "metadata": {
        "id": "-Umx7n134suz"
      },
      "source": [
        "#### **Situación 2:**\n",
        "\n",
        "Recibimos una solicitud para crear una función que calcule el promedio de notas de un estudiante a partir de una lista; que permita alterar la cantidad de notas, y que no implique tener que modificar la función.\n",
        "\n",
        "Los datos recibidos, en esta ocasión, corresponden a una lista que contiene las notas de un mismo estudiante en una determinada materia.\n",
        "\n",
        "notas = 8.5, 9.0, 6.0, 10.0\n",
        "\n",
        "**¿Vamos a resolver este desafío?**\n",
        "\n",
        "Para facilitar nuestra comprensión del proceso, vamos a aplicar las notas de un único estudiante; sin embargo, puedes probar otros casos para practicar."
      ]
    },
    {
      "cell_type": "code",
      "execution_count": 12,
      "metadata": {
        "id": "U4MlTO9ucAKc"
      },
      "outputs": [],
      "source": [
        "notas = [8.5, 9.0, 6.0, 10.0]"
      ]
    },
    {
      "cell_type": "code",
      "execution_count": 13,
      "metadata": {
        "id": "ZrqyDBNFMYOK"
      },
      "outputs": [],
      "source": [
        "def promedio(lista):\n",
        "    calculo = sum(lista)/len(lista)\n",
        "    print(calculo)"
      ]
    },
    {
      "cell_type": "code",
      "execution_count": 14,
      "metadata": {
        "id": "wEkixagwMY2E"
      },
      "outputs": [
        {
          "name": "stdout",
          "output_type": "stream",
          "text": [
            "8.375\n"
          ]
        }
      ],
      "source": [
        "promedio(notas)"
      ]
    },
    {
      "cell_type": "code",
      "execution_count": 15,
      "metadata": {
        "id": "60Gvxd9tMa5d"
      },
      "outputs": [
        {
          "name": "stdout",
          "output_type": "stream",
          "text": [
            "8.375\n"
          ]
        }
      ],
      "source": [
        "media = promedio(notas)"
      ]
    },
    {
      "cell_type": "code",
      "execution_count": 16,
      "metadata": {},
      "outputs": [
        {
          "data": {
            "text/plain": [
              "NoneType"
            ]
          },
          "execution_count": 16,
          "metadata": {},
          "output_type": "execute_result"
        }
      ],
      "source": [
        "type(media)"
      ]
    },
    {
      "cell_type": "markdown",
      "metadata": {
        "id": "skMq7d0_xHND"
      },
      "source": [
        "<font color=red>**Atención!**</font>\n",
        "Cuando utilizamos funciones, necesitamos prestar atención a una propiedad llamada **Alcance de una función**. Esta propiedad determina dónde una variable puede ser utilizada dentro del código. Por ejemplo, una variable creada dentro de una función existirá únicamente dentro de esta función. O sea, cuando finaliza la ejecución de una función, la variable no estará disponible para el usuario en el resto del código."
      ]
    },
    {
      "cell_type": "code",
      "execution_count": null,
      "metadata": {
        "id": "yTOqJSgsMbdJ"
      },
      "outputs": [],
      "source": []
    },
    {
      "cell_type": "markdown",
      "metadata": {
        "id": "-oDFGKcA52kG"
      },
      "source": [
        "## 2.3 Funciones que retornan valores\n",
        "\n",
        "#### Formato estándar:\n",
        "\n",
        "```python\n",
        "def <nombre>(<param_1>, <param_2>, ..., <param_n>):\n",
        "  <instrucciones>\n",
        "  return resultado\n",
        "```"
      ]
    },
    {
      "cell_type": "markdown",
      "metadata": {
        "id": "DxvT_uItbQ-q"
      },
      "source": [
        "Retomando la actividad anterior, podemos retornar y guardar el valor del promedio de la siguiente forma:"
      ]
    },
    {
      "cell_type": "code",
      "execution_count": 17,
      "metadata": {
        "id": "GlWdnX7Ubgl3"
      },
      "outputs": [],
      "source": [
        "# Notas del estudiante\n",
        "notas = [8.5, 9.0, 6.0, 10.0]"
      ]
    },
    {
      "cell_type": "code",
      "execution_count": 20,
      "metadata": {
        "id": "JdMFsT9GMgI6"
      },
      "outputs": [],
      "source": [
        "def promedio(lista):\n",
        "    resultado = sum(lista)/len(lista)\n",
        "    return resultado"
      ]
    },
    {
      "cell_type": "code",
      "execution_count": 21,
      "metadata": {
        "id": "p7AwNnTCMgLf"
      },
      "outputs": [
        {
          "data": {
            "text/plain": [
              "8.375"
            ]
          },
          "execution_count": 21,
          "metadata": {},
          "output_type": "execute_result"
        }
      ],
      "source": [
        "promedio(notas)"
      ]
    },
    {
      "cell_type": "code",
      "execution_count": 22,
      "metadata": {
        "id": "35zC247QMgRP"
      },
      "outputs": [],
      "source": [
        "resultado = promedio(notas)"
      ]
    },
    {
      "cell_type": "code",
      "execution_count": 23,
      "metadata": {
        "id": "TjmB8IWpMgV4"
      },
      "outputs": [
        {
          "data": {
            "text/plain": [
              "float"
            ]
          },
          "execution_count": 23,
          "metadata": {},
          "output_type": "execute_result"
        }
      ],
      "source": [
        "type(resultado)"
      ]
    },
    {
      "cell_type": "code",
      "execution_count": 24,
      "metadata": {},
      "outputs": [
        {
          "data": {
            "text/plain": [
              "8.375"
            ]
          },
          "execution_count": 24,
          "metadata": {},
          "output_type": "execute_result"
        }
      ],
      "source": [
        "resultado"
      ]
    },
    {
      "cell_type": "markdown",
      "metadata": {
        "id": "_awyOKOH8OOi"
      },
      "source": [
        "#### **Situación 3:**\n",
        "\n",
        "Recibimos una nueva solicitud. Debemos calcular el promedio de un estudiante a partir de una lista y retornar tanto el promedio como la situación del estudiante (\"Aprobado(a)\" si la nota es mayor o igual a 7.0, en caso contrario, será \"Reprobado(a)\").\n",
        "\n",
        "Además de ello, necesitamos exhibir un pequeño texto para indicar el promedio del estudiante y cuál es su situación. Los datos recibidos corresponden a una lista que contiene apenas las notas de un estudiante en una materia determinada.\n",
        "\n",
        "**¿Vamos a resolver este desafío?**\n",
        "\n",
        "Para facilitar nuestra comprensión del proceso, vamos a aplicar las notas de un único estudiante; sin embargo, puedes probar otros casos para practicar."
      ]
    },
    {
      "cell_type": "code",
      "execution_count": null,
      "metadata": {
        "id": "3saGo2kDf0BY"
      },
      "outputs": [],
      "source": [
        "# Notas del estudiante\n",
        "notas = [8.5, 9.0, 6.0, 10.0]"
      ]
    },
    {
      "cell_type": "code",
      "execution_count": 25,
      "metadata": {
        "id": "unNLrdFjMjbv"
      },
      "outputs": [],
      "source": [
        "def boletin(lista):\n",
        "    resultado = sum(lista)/len(lista)\n",
        "    if resultado >= 7:\n",
        "        situacion = 'Aprobado'\n",
        "    else:\n",
        "        situacion = 'Desaprobado'\n",
        "    return (resultado,situacion)"
      ]
    },
    {
      "cell_type": "code",
      "execution_count": 26,
      "metadata": {
        "id": "Rmvg4hNeMjeD"
      },
      "outputs": [
        {
          "data": {
            "text/plain": [
              "(8.375, 'Aprobado')"
            ]
          },
          "execution_count": 26,
          "metadata": {},
          "output_type": "execute_result"
        }
      ],
      "source": [
        "boletin(notas)"
      ]
    },
    {
      "cell_type": "code",
      "execution_count": 27,
      "metadata": {
        "id": "jCYuFpmeMji6"
      },
      "outputs": [],
      "source": [
        "resultado, situacion = boletin(notas)"
      ]
    },
    {
      "cell_type": "code",
      "execution_count": 28,
      "metadata": {
        "id": "hSht0Z2cMjlT"
      },
      "outputs": [
        {
          "name": "stdout",
          "output_type": "stream",
          "text": [
            "El estudiante obtuvo un puntaje de : 8.375 y su situacion es Aprobado\n"
          ]
        }
      ],
      "source": [
        "print(f'El estudiante obtuvo un puntaje de : {resultado} y su situacion es {situacion}')"
      ]
    },
    {
      "cell_type": "code",
      "execution_count": 29,
      "metadata": {
        "id": "tLdjCulMMjnD"
      },
      "outputs": [],
      "source": [
        "def boletin(lista):\n",
        "    resultado = sum(lista)/len(lista)\n",
        "    if resultado >= 7:\n",
        "        situacion = 'Aprobado'\n",
        "    else:\n",
        "        situacion = 'Desaprobado'\n",
        "    return f'El estudiante obtuvo un puntaje de : {resultado} y su situacion es {situacion}'"
      ]
    },
    {
      "cell_type": "code",
      "execution_count": 30,
      "metadata": {},
      "outputs": [],
      "source": [
        "notas_2 = [7.5, 4.0, 3.0, 10.0]"
      ]
    },
    {
      "cell_type": "code",
      "execution_count": 31,
      "metadata": {},
      "outputs": [
        {
          "data": {
            "text/plain": [
              "'El estudiante obtuvo un puntaje de : 6.125 y su situacion es Desaprobado'"
            ]
          },
          "execution_count": 31,
          "metadata": {},
          "output_type": "execute_result"
        }
      ],
      "source": [
        "boletin(notas_2)"
      ]
    },
    {
      "cell_type": "markdown",
      "metadata": {
        "id": "hwYYRpkZMft5"
      },
      "source": [
        "## 2.4 Funciones lambda\n",
        "\n",
        "También se conocen como funciones anónimas, son funciones que no necesitan ser definidas, o sea, no poseen un nombre, y describen en una única fila los comandos que deseamos aplicar.\n",
        "\n",
        "https://docs.python.org/es/3/reference/expressions.html?#lambda\n",
        "\n",
        "#### Formato estándar:\n",
        "\n",
        "```python\n",
        "lambda <variable>: <expresion>\n",
        "```"
      ]
    },
    {
      "cell_type": "code",
      "execution_count": 33,
      "metadata": {
        "id": "wcNxDJoPMmTJ"
      },
      "outputs": [
        {
          "data": {
            "text/plain": [
              "7.5"
            ]
          },
          "execution_count": 33,
          "metadata": {},
          "output_type": "execute_result"
        }
      ],
      "source": [
        "nota_ = float(input('Digite una nota'))\n",
        "def cualitativa(nota):\n",
        "    return nota + 0.5\n",
        "\n",
        "cualitativa(nota_)"
      ]
    },
    {
      "cell_type": "code",
      "execution_count": 34,
      "metadata": {
        "id": "S-baAoaQMmVy"
      },
      "outputs": [
        {
          "data": {
            "text/plain": [
              "7.5"
            ]
          },
          "execution_count": 34,
          "metadata": {},
          "output_type": "execute_result"
        }
      ],
      "source": [
        "nota_ = float(input('Digite una nota'))\n",
        "cualitativa = lambda x: x + 0.5\n",
        "cualitativa(nota_)\n"
      ]
    },
    {
      "cell_type": "markdown",
      "metadata": {
        "id": "AuRWyNXYgD_b"
      },
      "source": [
        "#### **Situación 4:**\n",
        "\n",
        "En esta nueva solicitud, necesitamos crear una calculadora simple para obtener el promedio ponderado de notas de una materia determinada. Vamos a pedir que el usuario introduzca 3 notas (N1, N2, N3) del estudiante y devuelva el promedio ponderado de este estudiante. Los pesos de las notas son de, respectivamente 3, 2 y 5.\n",
        "\n",
        "Necesitamos exhibir un pequeño texto para poder indicar el promedio del estudiante.\n",
        "**¿Vamos a resolver este desafío?**\n"
      ]
    },
    {
      "cell_type": "markdown",
      "metadata": {
        "id": "vdKk3DRBmtUE"
      },
      "source": [
        "**Resolviendo nuestro problema:**"
      ]
    },
    {
      "cell_type": "code",
      "execution_count": 35,
      "metadata": {
        "id": "6YxEn9aiMnYJ"
      },
      "outputs": [],
      "source": [
        "n1 = float(input('Digite la primera nota'))\n",
        "n2 = float(input('Digite la segunda nota'))\n",
        "n3 = float(input('Digite la tercera nota'))\n",
        "\n",
        "ponderado = lambda x,y,z: (x*3+y*2+z*5)/10\n",
        "nota_final = ponderado(n1,n2,n3)"
      ]
    },
    {
      "cell_type": "code",
      "execution_count": 36,
      "metadata": {
        "id": "Ptn9gQaPMnaz"
      },
      "outputs": [
        {
          "name": "stdout",
          "output_type": "stream",
          "text": [
            "El promedio ponderado del estudiante es: 12.3\n"
          ]
        }
      ],
      "source": [
        "print(f'El promedio ponderado del estudiante es: {nota_final}')"
      ]
    },
    {
      "cell_type": "markdown",
      "metadata": {
        "id": "1qk0gLdfFcbf"
      },
      "source": [
        "#### **Situación 5:**\n",
        "\n",
        "Ahora, debemos crear una pequeña función que permita dar una nota cualitativa (puntaje extra) a las notas del trimestre de los estudiantes del grupo que ganó el concurso de programación realizado en la institución. Cada estudiante recibirá el cualitativo de 0.5 añadido al promedio.\n",
        "\n",
        "Los datos recibidos corresponden a una lista que contiene las notas de algunos estudiantes y una variable con el cualitativo recibido.\n",
        "\n",
        "**¿Vamos a resolver este desafío?**\n",
        "\n",
        "Para facilitar nuestra comprensión del proceso, vamos a aplicar las notas de 5 estudiantes; sin embargo, puedes probar otros casos para practicar."
      ]
    },
    {
      "cell_type": "code",
      "execution_count": 37,
      "metadata": {
        "id": "RdoaWhuVI_OB"
      },
      "outputs": [],
      "source": [
        "# Notas del estudiante\n",
        "notas = [6.0, 7.0, 9.0, 5.5, 8.0]\n",
        "cualitativo = 0.5"
      ]
    },
    {
      "cell_type": "code",
      "execution_count": 38,
      "metadata": {
        "id": "PzDfbv-kMq2t"
      },
      "outputs": [],
      "source": [
        "notas_actualizadas = lambda x: x + 0.5"
      ]
    },
    {
      "cell_type": "code",
      "execution_count": 40,
      "metadata": {
        "id": "3YDQ39wFMq5u"
      },
      "outputs": [],
      "source": [
        "# notas_actualizadas(notas)"
      ]
    },
    {
      "cell_type": "markdown",
      "metadata": {
        "id": "SOK4BC4mmKbG"
      },
      "source": [
        "### Mapeando valores\n",
        "\n",
        "#### Formato estándar:\n",
        "\n",
        "```python\n",
        "map(<lambda function>, <iterador>)\n",
        "```"
      ]
    },
    {
      "cell_type": "code",
      "execution_count": 41,
      "metadata": {
        "id": "ZbfpvfWJMsjv"
      },
      "outputs": [],
      "source": [
        "notas_actualizadas = map(lambda x: x + 0.5, notas)"
      ]
    },
    {
      "cell_type": "code",
      "execution_count": 42,
      "metadata": {
        "id": "TA-zGLJfMseA"
      },
      "outputs": [
        {
          "data": {
            "text/plain": [
              "<map at 0x1ba5933d780>"
            ]
          },
          "execution_count": 42,
          "metadata": {},
          "output_type": "execute_result"
        }
      ],
      "source": [
        "notas_actualizadas"
      ]
    },
    {
      "cell_type": "code",
      "execution_count": 43,
      "metadata": {
        "id": "PrAppvR6MuKm"
      },
      "outputs": [
        {
          "name": "stdout",
          "output_type": "stream",
          "text": [
            "[6.5, 7.5, 9.5, 6.0, 8.5]\n",
            "[6.0, 7.0, 9.0, 5.5, 8.0]\n"
          ]
        }
      ],
      "source": [
        "notas_actualizadas = list(notas_actualizadas)\n",
        "print(notas_actualizadas)\n",
        "print(notas)"
      ]
    },
    {
      "cell_type": "markdown",
      "metadata": {
        "id": "DoB6wf2JCYf7"
      },
      "source": [
        "## <font color=green> 3. ESTRUCTURAS DE DATOS COMPUESTAS\n",
        "---"
      ]
    },
    {
      "cell_type": "markdown",
      "metadata": {
        "id": "3or6MbnZDW_b"
      },
      "source": [
        "## 3.1 Estructuras anidadas\n",
        "\n",
        "Previamente, aprendimos a manipular las listas, tuplas y diccionarios para trabajar con una secuencia o colección de valores sean numéricos, categóricos, etc. En esta aula, vamos a profundizar en otra situación común para la persona científica de datos que es trabajar con estos tipos de estructuras anidadas, o sea, cuando, por ejemplo, tenemos listas dentro de una lista."
      ]
    },
    {
      "cell_type": "markdown",
      "metadata": {
        "id": "fddus1G9HqB3"
      },
      "source": [
        "### **Lista de listas**\n",
        "\n",
        "#### Formato estándar:\n",
        "\n",
        "```python\n",
        "[[a1, a2,...,an], [b1, b2,...,bn], ..., [n1, n2,...,nn]]\n",
        "```"
      ]
    },
    {
      "cell_type": "markdown",
      "metadata": {
        "id": "32K5LA11tFpz"
      },
      "source": [
        "#### **Situación 6:**\n",
        "\n",
        "Recibimos la demanda de transformar una lista con el nombre y las notas de tres trimestres de algunos estudiantes en una lista simple, con los nombres separados de las notas, y una lista de listas con las tres notas de cada estudiante separadas entre sí. Los datos recibidos corresponden a una lista con los nombres y las respectivas notas de cada estudiante.\n",
        "\n",
        "**¿Vamos a resolver este desafío?**\n",
        "\n",
        "Para facilitar nuestra comprensión del proceso, vamos a trabajar con un grupo de 5 estudiantes; sin embargo, puedes probar otros casos para practicar.\n"
      ]
    },
    {
      "cell_type": "code",
      "execution_count": 44,
      "metadata": {
        "id": "jlEP-c2YthpB"
      },
      "outputs": [],
      "source": [
        "notas_grupo = ['Juan', 8.0, 9.0, 10.0, 'Maria', 9.0, 7.0, 6.0, 'José', 3.4, 7.0, 7.0, 'Claudia', 5.5, 6.6, 8.0, 'Ana', 6.0, 10.0, 9.5]"
      ]
    },
    {
      "cell_type": "code",
      "execution_count": 45,
      "metadata": {
        "id": "azR_cX-ILghB"
      },
      "outputs": [],
      "source": [
        "nombres = []\n",
        "notas = []\n",
        "\n",
        "for i in range(len(notas_grupo)):\n",
        "    if i % 4 == 0:\n",
        "        nombres.append(notas_grupo[i])\n",
        "    else:\n",
        "        notas.append(notas_grupo[i])"
      ]
    },
    {
      "cell_type": "code",
      "execution_count": 46,
      "metadata": {
        "id": "GhfsJvs9LgjY"
      },
      "outputs": [
        {
          "data": {
            "text/plain": [
              "['Juan', 'Maria', 'José', 'Claudia', 'Ana']"
            ]
          },
          "execution_count": 46,
          "metadata": {},
          "output_type": "execute_result"
        }
      ],
      "source": [
        "nombres"
      ]
    },
    {
      "cell_type": "code",
      "execution_count": 47,
      "metadata": {
        "id": "tB8FA20gLiog"
      },
      "outputs": [
        {
          "data": {
            "text/plain": [
              "[8.0, 9.0, 10.0, 9.0, 7.0, 6.0, 3.4, 7.0, 7.0, 5.5, 6.6, 8.0, 6.0, 10.0, 9.5]"
            ]
          },
          "execution_count": 47,
          "metadata": {},
          "output_type": "execute_result"
        }
      ],
      "source": [
        "notas"
      ]
    },
    {
      "cell_type": "code",
      "execution_count": 48,
      "metadata": {
        "id": "SCi8Jl82Liqo"
      },
      "outputs": [],
      "source": [
        "notas_separadas = []\n",
        "for i in range(0,len(notas),3):\n",
        "    notas_separadas.append([notas[i],notas[i+1],notas[i+2]])"
      ]
    },
    {
      "cell_type": "code",
      "execution_count": 49,
      "metadata": {},
      "outputs": [
        {
          "data": {
            "text/plain": [
              "[[8.0, 9.0, 10.0],\n",
              " [9.0, 7.0, 6.0],\n",
              " [3.4, 7.0, 7.0],\n",
              " [5.5, 6.6, 8.0],\n",
              " [6.0, 10.0, 9.5]]"
            ]
          },
          "execution_count": 49,
          "metadata": {},
          "output_type": "execute_result"
        }
      ],
      "source": [
        "notas_separadas"
      ]
    },
    {
      "cell_type": "markdown",
      "metadata": {
        "id": "SW0sVg68sK_z"
      },
      "source": [
        "### **Lista de tuplas**\n",
        "\n",
        "#### Formato estándar:\n",
        "\n",
        "```python\n",
        "[(a1, a2,...,an), (b1, b2,...,bn), ..., (n1, n2,...,nn)]\n",
        "```"
      ]
    },
    {
      "cell_type": "markdown",
      "metadata": {
        "id": "OId6jAZz5x2m"
      },
      "source": [
        "#### **Situación 7:**\n",
        "\n",
        "Necesitamos generar una lista de tuplas con los nombres de los estudiantes y el código ID de cada uno de ellos para la plataforma de análisis de datos. La creación del código consiste en concatenar la primera letra del nombre del estudiante con un número aleatorio de 0 a 999. Los datos recibidos corresponden a una lista con los nombres de cada estudiante.\n",
        "\n",
        "**¿Vamos a resolver este desafío?**\n",
        "\n",
        "Para facilitar nuestra comprensión del proceso, vamos a trabajar con un grupo de 5 estudiantes; sin embargo, puedes probar otros casos para practicar.\n"
      ]
    },
    {
      "cell_type": "code",
      "execution_count": 50,
      "metadata": {
        "id": "YA1zJ0G6LkTy"
      },
      "outputs": [
        {
          "data": {
            "text/plain": [
              "['Juan', 'Maria', 'José', 'Claudia', 'Ana']"
            ]
          },
          "execution_count": 50,
          "metadata": {},
          "output_type": "execute_result"
        }
      ],
      "source": [
        "nombres"
      ]
    },
    {
      "cell_type": "code",
      "execution_count": 51,
      "metadata": {
        "id": "yBzPwhGiLkWa"
      },
      "outputs": [],
      "source": [
        "from random import randint"
      ]
    },
    {
      "cell_type": "code",
      "execution_count": 52,
      "metadata": {
        "id": "9qgGAjSyLndK"
      },
      "outputs": [],
      "source": [
        "def genera_numero():\n",
        "    return randint(0,999)"
      ]
    },
    {
      "cell_type": "code",
      "execution_count": 53,
      "metadata": {
        "id": "jVRxtOyeLngM"
      },
      "outputs": [
        {
          "data": {
            "text/plain": [
              "276"
            ]
          },
          "execution_count": 53,
          "metadata": {},
          "output_type": "execute_result"
        }
      ],
      "source": [
        "genera_numero()"
      ]
    },
    {
      "cell_type": "code",
      "execution_count": 54,
      "metadata": {},
      "outputs": [
        {
          "data": {
            "text/plain": [
              "'J'"
            ]
          },
          "execution_count": 54,
          "metadata": {},
          "output_type": "execute_result"
        }
      ],
      "source": [
        "nombres[0][0]"
      ]
    },
    {
      "cell_type": "code",
      "execution_count": 57,
      "metadata": {},
      "outputs": [],
      "source": [
        "codigo_estudiantes = []\n",
        "for i in range(len(nombres)):\n",
        "    codigo_estudiantes.append((nombres[i],nombres[i][0]+str(genera_numero())))"
      ]
    },
    {
      "cell_type": "code",
      "execution_count": 59,
      "metadata": {},
      "outputs": [
        {
          "data": {
            "text/plain": [
              "[('Juan', 'J836'),\n",
              " ('Maria', 'M414'),\n",
              " ('José', 'J745'),\n",
              " ('Claudia', 'C64'),\n",
              " ('Ana', 'A102')]"
            ]
          },
          "execution_count": 59,
          "metadata": {},
          "output_type": "execute_result"
        }
      ],
      "source": [
        "codigo_estudiantes"
      ]
    },
    {
      "cell_type": "markdown",
      "metadata": {
        "id": "srHAov19QCdb"
      },
      "source": [
        "## 3.2 List comprehension\n",
        "\n",
        "Es una forma simple y concisa de crear una lista. Podemos aplicar condicionales y lazos para crear diversos tipos de listas a partir de patrones que deseamos para nuestra estructura de datos.\n",
        "\n",
        "https://docs.python.org/es/3/tutorial/datastructures.html?#list-comprehensions\n",
        "\n",
        "#### Formato estándar:\n",
        "\n",
        "```python\n",
        "[expresion for item in lista]\n",
        "```"
      ]
    },
    {
      "cell_type": "markdown",
      "metadata": {
        "id": "l4HW0gDqecgM"
      },
      "source": [
        "#### **Situación 8:**\n",
        "\n",
        "Recibimos la demanda de crear una lista con el promedio de los estudiantes de la lista de listas que creamos en la Situación 6, redondeando el promedio a una casilla decimal. Recordando que cada lista de la lista de listas contiene las tres notas de cada estudiante.\n",
        "\n",
        "**¿Vamos a resolver este desafío?**\n",
        "\n",
        "**Tip:** Utiliza el formato:\n",
        "```python\n",
        "[expresion for item in lista]\n",
        "```"
      ]
    },
    {
      "cell_type": "code",
      "execution_count": 2,
      "metadata": {
        "id": "J_atQRQdlpNe"
      },
      "outputs": [],
      "source": [
        "def promedio(lista: list=[0]) -> float:\n",
        "  ''' Función para calcular el promedio de notas en una lista\n",
        "\n",
        "  lista: list, default [0]\n",
        "    Lista con las notas para calcular el promedio\n",
        "  return = calculo: float\n",
        "    Promedio calculado\n",
        "  '''\n",
        "\n",
        "  calculo = sum(lista) / len(lista)\n",
        "\n",
        "  return calculo"
      ]
    },
    {
      "cell_type": "code",
      "execution_count": 3,
      "metadata": {
        "id": "h7LeBrgnLAG6"
      },
      "outputs": [],
      "source": [
        "notas = [[8.0, 9.0, 10.0],[9.0, 7.0, 6.0],[3.4, 7.0, 7.0],[5.5, 6.6, 8.0],[6.0, 10.0, 9.5]]"
      ]
    },
    {
      "cell_type": "code",
      "execution_count": 4,
      "metadata": {
        "id": "3j8_H7e8LAJZ"
      },
      "outputs": [
        {
          "data": {
            "text/plain": [
              "[9.0, 7.3, 5.8, 6.7, 8.5]"
            ]
          },
          "execution_count": 4,
          "metadata": {},
          "output_type": "execute_result"
        }
      ],
      "source": [
        "promedios = [round(promedio(nota),1) for nota in notas]\n",
        "promedios"
      ]
    },
    {
      "cell_type": "markdown",
      "metadata": {
        "id": "ApLjXlAdhJKd"
      },
      "source": [
        "#### **Situación 9:**\n",
        "\n",
        "Ahora, necesitamos utilizar los promedios calculados en el ejemplo anterior, y agruparlos con el nombre de los respectivos estudiantes. Esto será necesario para generar una lista que seleccione a aquellos estudiantes que posean un promedio final mayor o igual a 8 para concursar por una beca de estudios para el próximo año lectivo. Los datos recibidos corresponden a una lista de tuplas con los nombres y los códigos de los estudiantes junto a la lista de promedios calculados previamente.\n",
        "\n",
        "**Nota: El número de código será diferente cada vez que se ejecute la celda que los genera, por lo tanto, es completamente normal que estos códigos sean diferentes.**\n",
        "\n",
        "**¿Vamos a resolver este desafío?**\n",
        "\n",
        "Para facilitar nuestra comprensión del proceso vamos a trabajar con un grupo de 5 estudiantes.\n",
        "\n",
        "**Tip:** Utiliza el formato:\n",
        "\n",
        "```python\n",
        "[expresion for item in lista if condicion]\n",
        "```"
      ]
    },
    {
      "cell_type": "code",
      "execution_count": 5,
      "metadata": {
        "id": "QK-ubmmrLC7I"
      },
      "outputs": [],
      "source": [
        "nombres = [('Juan', 'J836'),('Maria', 'M414'),('José', 'J745'),('Claudia', 'C64'),('Ana', 'A102')]\n",
        "promedios = [9.0, 7.3, 5.8, 6.7, 8.5]"
      ]
    },
    {
      "cell_type": "code",
      "execution_count": 6,
      "metadata": {
        "id": "df1Q8GGELC9b"
      },
      "outputs": [
        {
          "data": {
            "text/plain": [
              "['Juan', 'Maria', 'José', 'Claudia', 'Ana']"
            ]
          },
          "execution_count": 6,
          "metadata": {},
          "output_type": "execute_result"
        }
      ],
      "source": [
        "nombres = [nombre[0] for nombre in nombres]\n",
        "nombres"
      ]
    },
    {
      "cell_type": "markdown",
      "metadata": {
        "id": "U6KAABs7Dfpe"
      },
      "source": [
        "<font color=green>**Tip:**</font> Para lograr parear los promedios y\n",
        "los nombres fácilmente, podemos acudir a otra  built-in function: `zip()`\n",
        "\n",
        "Esta recibe uno o más iterables (lista, string, dict, etc.) y los retorna como un iterador de tuplas donde cada elemento de los iterables es pareado."
      ]
    },
    {
      "cell_type": "code",
      "execution_count": 7,
      "metadata": {
        "id": "841v92WvLEol"
      },
      "outputs": [
        {
          "data": {
            "text/plain": [
              "[('Juan', 9.0), ('Maria', 7.3), ('José', 5.8), ('Claudia', 6.7), ('Ana', 8.5)]"
            ]
          },
          "execution_count": 7,
          "metadata": {},
          "output_type": "execute_result"
        }
      ],
      "source": [
        "estudiantes = list(zip(nombres,promedios))\n",
        "estudiantes"
      ]
    },
    {
      "cell_type": "code",
      "execution_count": 8,
      "metadata": {
        "id": "U8b4G_2oLErp"
      },
      "outputs": [
        {
          "data": {
            "text/plain": [
              "['Juan', 'Ana']"
            ]
          },
          "execution_count": 8,
          "metadata": {},
          "output_type": "execute_result"
        }
      ],
      "source": [
        "candidatos = [estudiante[0] for estudiante in estudiantes if estudiante[1] >= 8]\n",
        "candidatos"
      ]
    },
    {
      "cell_type": "markdown",
      "metadata": {
        "id": "9yzRDIB0fkeF"
      },
      "source": [
        "#### **Situación 10:**\n",
        "\n",
        "Recibimos dos demandas sobre este proyecto con las notas de los estudiantes:\n",
        "- Crear una lista de la situación de los estudiantes considerando los siguientes casos: Si su promedio es mayor o igual a 7, recibirá el valor \"Aprobado\" y en caso contrario recibirá el valor \"Reprobado\".\n",
        "- Generar una lista de listas con:\n",
        "  - Lista de tuplas con el nombre de los estudiantes y sus códigos\n",
        "  - Lista de listas con las notas de cada estudiante\n",
        "  - Lista con los promedios de cada estudiante\n",
        "  - Lista de la situación de los estudiantes de acuerdo con los promedios\n",
        "\n",
        "Los datos que utilizaremos son los mismos que generamos en las situaciones anteriores (`nombres`, `notas`, `promedios`).\n",
        "\n",
        "**¿Vamos a resolver este desafío?**\n",
        "\n",
        "Para avanzar en el proceso, vamos a dejar escritas las estructuras de datos que ya produjimos.\n",
        "\n",
        "**Tip:** Para la lista de las situaciones utiliza el formato:\n",
        "```python\n",
        "[resultado_if if condicion else resultado_else for item in lista]\n",
        "```"
      ]
    },
    {
      "cell_type": "code",
      "execution_count": 9,
      "metadata": {
        "id": "YGQIaCzkLGqd"
      },
      "outputs": [],
      "source": [
        "nombres = [('Juan', 'J836'),('Maria', 'M414'),('José', 'J745'),('Claudia', 'C64'),('Ana', 'A102')]\n",
        "notas = [[8.0, 9.0, 10.0],[9.0, 7.0, 6.0],[3.4, 7.0, 7.0],[5.5, 6.6, 8.0],[6.0, 10.0, 9.5]]\n",
        "promedios = [9.0, 7.3, 5.8, 6.7, 8.5]"
      ]
    },
    {
      "cell_type": "code",
      "execution_count": 10,
      "metadata": {
        "id": "OAAQHwE1LGs2"
      },
      "outputs": [
        {
          "data": {
            "text/plain": [
              "['Aprobado', 'Aprobado', 'Reprobado', 'Reprobado', 'Aprobado']"
            ]
          },
          "execution_count": 10,
          "metadata": {},
          "output_type": "execute_result"
        }
      ],
      "source": [
        "situacion = ['Aprobado' if promedio >= 7 else 'Reprobado' for promedio in promedios]\n",
        "situacion"
      ]
    },
    {
      "cell_type": "markdown",
      "metadata": {
        "id": "0XsAi49IF9Ta"
      },
      "source": [
        "**Tip:** Para generar la lista de listas del enunciado podemos utilizar el siguiente formato:\n",
        "```python\n",
        "[expresion for item in lista de listas]\n",
        "```"
      ]
    },
    {
      "cell_type": "code",
      "execution_count": 11,
      "metadata": {
        "id": "1Dj6R1vTLIbI"
      },
      "outputs": [
        {
          "data": {
            "text/plain": [
              "[[('Juan', 'J836'),\n",
              "  ('Maria', 'M414'),\n",
              "  ('José', 'J745'),\n",
              "  ('Claudia', 'C64'),\n",
              "  ('Ana', 'A102')],\n",
              " [[8.0, 9.0, 10.0],\n",
              "  [9.0, 7.0, 6.0],\n",
              "  [3.4, 7.0, 7.0],\n",
              "  [5.5, 6.6, 8.0],\n",
              "  [6.0, 10.0, 9.5]],\n",
              " [9.0, 7.3, 5.8, 6.7, 8.5],\n",
              " ['Aprobado', 'Aprobado', 'Reprobado', 'Reprobado', 'Aprobado']]"
            ]
          },
          "execution_count": 11,
          "metadata": {},
          "output_type": "execute_result"
        }
      ],
      "source": [
        "registros = [x for x in [nombres, notas, promedios, situacion]]\n",
        "registros"
      ]
    },
    {
      "cell_type": "markdown",
      "metadata": {
        "id": "4hkHEZGbGH7X"
      },
      "source": [
        "<font color=green>**Tip:**</font> Podemos acudir a la forma más simple de generación de lista de listas con el uso directo de los corchetes sin la necesidad de utilizar las expresiones y el lazo `for` que se emplea en la comprensión de listas."
      ]
    },
    {
      "cell_type": "code",
      "execution_count": 13,
      "metadata": {
        "id": "1tEtWzSoLKKg"
      },
      "outputs": [
        {
          "data": {
            "text/plain": [
              "[[('Juan', 'J836'),\n",
              "  ('Maria', 'M414'),\n",
              "  ('José', 'J745'),\n",
              "  ('Claudia', 'C64'),\n",
              "  ('Ana', 'A102')],\n",
              " [[8.0, 9.0, 10.0],\n",
              "  [9.0, 7.0, 6.0],\n",
              "  [3.4, 7.0, 7.0],\n",
              "  [5.5, 6.6, 8.0],\n",
              "  [6.0, 10.0, 9.5]],\n",
              " [9.0, 7.3, 5.8, 6.7, 8.5],\n",
              " ['Aprobado', 'Aprobado', 'Reprobado', 'Reprobado', 'Aprobado']]"
            ]
          },
          "execution_count": 13,
          "metadata": {},
          "output_type": "execute_result"
        }
      ],
      "source": [
        "lista_completa = [nombres, notas, promedios, situacion]\n",
        "lista_completa"
      ]
    },
    {
      "cell_type": "markdown",
      "metadata": {
        "id": "NmohhDl-QRpx"
      },
      "source": [
        "## 3.3 Dict comprehension\n",
        "\n",
        "Es una forma simple y concisa de crear o modificar un diccionario. Podemos aplicar condicionales y lazos para crear diversos tipos de diccionarios a partir de los patrones que buscamos para nuestra estructura de datos y con el soporte de iterables como listas o sets.\n",
        "\n",
        "https://peps.python.org/pep-0274/\n",
        "\n",
        "#### Formato estándar:\n",
        "\n",
        "```python\n",
        "{llave: valor for item in lista}\n",
        "```"
      ]
    },
    {
      "cell_type": "markdown",
      "metadata": {
        "id": "kGt8hQXOKeIt"
      },
      "source": [
        "#### **Situación 11:**\n",
        "\n",
        "Ahora, nuestra demanda consiste en generar un diccionario a partir de la lista de listas que creamos en la Situación 10 para entregar a la persona responsable por construir las tablas para el análisis de los datos.\n",
        "- Las llaves de nuestro diccionario serán las columnas identificando el tipo de dato\n",
        "- Los valores serán las listas con los datos correspondientes a aquella llave.\n",
        "\n",
        "**¿Vamos a resolver este desafío?**\n",
        "\n",
        "Para facilitar nuestra comprensión del proceso vamos a trabajar con un grupo de 5 estudiantes.\n",
        "\n",
        "**Tip:** Utiliza el formato\n",
        "\n",
        "```python\n",
        "{llave: valor for item in lista}\n",
        "```"
      ]
    },
    {
      "cell_type": "code",
      "execution_count": 14,
      "metadata": {
        "id": "GuTwYw8NLNST"
      },
      "outputs": [],
      "source": [
        "lista_completa = [\n",
        "    [('Juan', 'J836'),('Maria', 'M414'),('José', 'J745'),('Claudia', 'C64'),('Ana', 'A102')],\n",
        "    [[8.0, 9.0, 10.0],[9.0, 7.0, 6.0],[3.4, 7.0, 7.0],[5.5, 6.6, 8.0],[6.0, 10.0, 9.5]],\n",
        "    [9.0, 7.3, 5.8, 6.7, 8.5],\n",
        "    ['Aprobado', 'Aprobado', 'Reprobado', 'Reprobado', 'Aprobado']\n",
        "]"
      ]
    },
    {
      "cell_type": "code",
      "execution_count": 16,
      "metadata": {
        "id": "Ka1JPCuvLP4x"
      },
      "outputs": [
        {
          "data": {
            "text/plain": [
              "{'Notas': [[8.0, 9.0, 10.0],\n",
              "  [9.0, 7.0, 6.0],\n",
              "  [3.4, 7.0, 7.0],\n",
              "  [5.5, 6.6, 8.0],\n",
              "  [6.0, 10.0, 9.5]],\n",
              " 'Promedio Final': [9.0, 7.3, 5.8, 6.7, 8.5],\n",
              " 'Situacion': ['Aprobado', 'Aprobado', 'Reprobado', 'Reprobado', 'Aprobado']}"
            ]
          },
          "execution_count": 16,
          "metadata": {},
          "output_type": "execute_result"
        }
      ],
      "source": [
        "columnas = ['Notas','Promedio Final','Situacion']\n",
        "registro = {columnas[i]:lista_completa[i+1] for i in range(len(columnas))}\n",
        "registro"
      ]
    },
    {
      "cell_type": "code",
      "execution_count": 17,
      "metadata": {
        "id": "4GhlzfLbLP8L"
      },
      "outputs": [
        {
          "data": {
            "text/plain": [
              "{'Notas': [[8.0, 9.0, 10.0],\n",
              "  [9.0, 7.0, 6.0],\n",
              "  [3.4, 7.0, 7.0],\n",
              "  [5.5, 6.6, 8.0],\n",
              "  [6.0, 10.0, 9.5]],\n",
              " 'Promedio Final': [9.0, 7.3, 5.8, 6.7, 8.5],\n",
              " 'Situacion': ['Aprobado', 'Aprobado', 'Reprobado', 'Reprobado', 'Aprobado'],\n",
              " 'Estudiante': ['Juan', 'Maria', 'José', 'Claudia', 'Ana']}"
            ]
          },
          "execution_count": 17,
          "metadata": {},
          "output_type": "execute_result"
        }
      ],
      "source": [
        "registro['Estudiante'] = [lista_completa[0][i][0] for i in range(len(lista_completa[0]))]\n",
        "registro"
      ]
    },
    {
      "cell_type": "markdown",
      "metadata": {
        "id": "RxKC5WVoCYp3"
      },
      "source": [
        "## <font color=green> 4. LIDIANDO CON EXCEPCIONES\n",
        "---"
      ]
    },
    {
      "cell_type": "markdown",
      "metadata": {
        "id": "MzOZ_0M3CU1x"
      },
      "source": [
        "Hemos podido evidenciar hasta aquí la existencia de algunos errores y excepciones en la ejecución de algún comando. Como científico/a de datos o programador, necesitarás estar atento a estas situaciones para evitar bugs o problemas en tus códigos y análisis que puedan afectar la experiencia tanto del usuario como la eficiencia de su análisis.\n",
        "\n",
        "Existen básicamente dos formas distintas de errores: Los **errores de sintáxis** y las **excepciones**.\n",
        "\n",
        "Las excepciones son errores detectados durante la ejecución e interrumpen el flujo del programa cerrándolo en caso de que no sean tratadas.  \n",
        "\n",
        "Vamos a aprender a identificar y tratar algunas de las excepciones aquí, pero es siempre importante consultar la documentación para investigar y verificar cuáles se ajustan a sus proyectos.\n",
        "\n",
        "**Documentación sobre errores y excepciones:** https://docs.python.org/es/3/tutorial/errors.html"
      ]
    },
    {
      "cell_type": "markdown",
      "metadata": {
        "id": "x3E66krBST7K"
      },
      "source": [
        "## 4.1 Tratando las Excepciones\n",
        "\n",
        "El tratamiento de las excepciones contribuye a establecer un flujo alternativo para la ejecución del código evitando la interrupción de los procesos inesperadamente.\n",
        "\n",
        "Existe una serie de excepciones, y a partir del comportamiento que queremos, y de los errores que queremos tratar, es posible construir un camino para el usuario, o también, proveer más detalles sobre aquella excepción.\n",
        "\n",
        "- Jerarquía de las excepciones (https://docs.python.org/es/3/library/exceptions.html#exception-hierarchy)"
      ]
    },
    {
      "cell_type": "markdown",
      "metadata": {
        "id": "h9lj8Wfk__cl"
      },
      "source": [
        "### Try ... Except\n",
        "\n",
        "```python\n",
        "try:\n",
        "  # código que será ejecutado. En caso de que surja una excepción, para inmediatamente\n",
        "except <nombre_de_la_excepcion as e>:\n",
        "  # Si surje una excepción en el try, ejecuta este código, si no, salta esta etapa\n",
        "```"
      ]
    },
    {
      "cell_type": "markdown",
      "metadata": {
        "id": "miwzhPNdD8Ty"
      },
      "source": [
        "#### **Situación 12:**\n",
        "\n",
        "Creaste un código que lee un diccionario con las notas de los estudiantes y querías retornar la lista de notas de un estudiante.\n",
        "\n",
        "En caso que el/la estudiante no esté matriculado(a) en el grupo debemos tratar la excepción para presentar el mensaje \"Estudiante no matriculado(a) en el grupo\".\n",
        "\n",
        "Vamos a trabajar en este ejemplo con la excepción **Key Error** que interrumpirá el processo de este trecho de código.\n",
        "\n",
        "**¿Vamos a probar este primer tratamiento?**\n",
        "\n"
      ]
    },
    {
      "cell_type": "code",
      "execution_count": 1,
      "metadata": {
        "id": "UvVbXY0XVm-f"
      },
      "outputs": [],
      "source": [
        "notas = {'Juan': [8.0, 9.0, 10.0], 'Maria': [9.0, 7.0, 6.0], 'José': [3.4, 7.0, 8.0], 'Claudia': [5.5, 6.6, 8.0],\n",
        "         'Ana': [6.0, 10.0, 9.5], 'Jorge': [5.5, 7.5, 9.0], 'Julia': [6.0, 8.0, 7.0], 'Pedro': [3.0, 4.0, 6.0]}"
      ]
    },
    {
      "cell_type": "code",
      "execution_count": 2,
      "metadata": {
        "id": "rFBq02dbJtkF"
      },
      "outputs": [
        {
          "ename": "KeyError",
          "evalue": "'Michael'",
          "output_type": "error",
          "traceback": [
            "\u001b[31m---------------------------------------------------------------------------\u001b[39m",
            "\u001b[31mKeyError\u001b[39m                                  Traceback (most recent call last)",
            "\u001b[36mCell\u001b[39m\u001b[36m \u001b[39m\u001b[32mIn[2]\u001b[39m\u001b[32m, line 2\u001b[39m\n\u001b[32m      1\u001b[39m nombre = \u001b[38;5;28minput\u001b[39m(\u001b[33m'\u001b[39m\u001b[33mDigitar el nombre del estudiante\u001b[39m\u001b[33m'\u001b[39m)\n\u001b[32m----> \u001b[39m\u001b[32m2\u001b[39m resultado = \u001b[43mnotas\u001b[49m\u001b[43m[\u001b[49m\u001b[43mnombre\u001b[49m\u001b[43m]\u001b[49m\n\u001b[32m      3\u001b[39m resultado\n",
            "\u001b[31mKeyError\u001b[39m: 'Michael'"
          ]
        }
      ],
      "source": [
        "nombre = input('Digitar el nombre del estudiante')\n",
        "resultado = notas[nombre]\n",
        "resultado"
      ]
    },
    {
      "cell_type": "code",
      "execution_count": 3,
      "metadata": {
        "id": "IZwxTL1EJvRl"
      },
      "outputs": [
        {
          "name": "stdout",
          "output_type": "stream",
          "text": [
            "<class 'KeyError'> 'Michael'\n"
          ]
        }
      ],
      "source": [
        "try:\n",
        "    nombre = input('Digitar el nombre del estudiante')\n",
        "    resultado = notas[nombre]\n",
        "except Exception as e:\n",
        "    print(type(e), e)"
      ]
    },
    {
      "cell_type": "code",
      "execution_count": 4,
      "metadata": {},
      "outputs": [
        {
          "name": "stdout",
          "output_type": "stream",
          "text": [
            "Estudiante no matriculado en el grupo\n"
          ]
        }
      ],
      "source": [
        "try:\n",
        "    nombre = input('Digitar el nombre del estudiante')\n",
        "    resultado = notas[nombre]\n",
        "except KeyError:\n",
        "    print('Estudiante no matriculado en el grupo')"
      ]
    },
    {
      "cell_type": "markdown",
      "metadata": {
        "id": "hKhKzgQoBHLb"
      },
      "source": [
        "### Agregando la cláusula Else\n",
        "\n",
        "```python\n",
        "try:\n",
        "  # código que será ejecutado. En caso de que surja una excepción, para inmediatamente\n",
        "except:\n",
        "  # Si surje una excepción en el try, ejecuta este código, si no, salta esta etapa\n",
        "else:\n",
        "  # Si no surjen excepciones, ejecuta esta parte del código\n",
        "```"
      ]
    },
    {
      "cell_type": "markdown",
      "metadata": {
        "id": "USN3SA2tMjL0"
      },
      "source": [
        "#### **Situación 13:**\n",
        "\n",
        "Creaste un código que lee un diccionario con las notas de los estudiantes y querías retornar la lista de notas de un estudiante.\n",
        "\n",
        "En caso de que el/la estudiante no esté matriculado(a) en la clase, debe aparecer el siguiente mensaje: \"Estudiante no matriculado(a) en el grupo\" y, si no surje la excepción, debemos exhibir la lista con las notas del(la) estudiante.\n",
        "\n",
        "Vamos a trabajar en este ejemplo con la excepción **Key Error** que interrumpirá el proceso de este trecho de código.\n",
        "\n",
        "**¿Vamos a probar este tratamiento?**\n"
      ]
    },
    {
      "cell_type": "code",
      "execution_count": 8,
      "metadata": {
        "id": "Qr_4-D3UJxcE"
      },
      "outputs": [
        {
          "name": "stdout",
          "output_type": "stream",
          "text": [
            "Estudiante Michael no matriculado en el grupo\n"
          ]
        }
      ],
      "source": [
        "try:\n",
        "    nombre = input('Digitar el nombre del estudiante')\n",
        "    resultado = notas[nombre]\n",
        "except KeyError:\n",
        "    print(f'Estudiante {nombre} no matriculado en el grupo')\n",
        "else:\n",
        "    print(resultado)"
      ]
    },
    {
      "cell_type": "code",
      "execution_count": 10,
      "metadata": {
        "id": "uy2xPGXoJzXS"
      },
      "outputs": [
        {
          "name": "stdout",
          "output_type": "stream",
          "text": [
            "Las notas del estudiante Maria son: [9.0, 7.0, 6.0]\n"
          ]
        }
      ],
      "source": [
        "try:\n",
        "    nombre = input('Digitar el nombre del estudiante')\n",
        "    resultado = notas[nombre]\n",
        "except KeyError:\n",
        "    print(f'Estudiante {nombre} no matriculado en el grupo')\n",
        "else:\n",
        "    print(f'Las notas del estudiante {nombre} son: {resultado}')"
      ]
    },
    {
      "cell_type": "markdown",
      "metadata": {
        "id": "Dw_efTlbBhll"
      },
      "source": [
        "### Añadiendo la cláusula finally\n",
        "\n",
        "```python\n",
        "try:\n",
        "  # código que será ejecutado. En caso de que surja una excepción, para inmediatamente\n",
        "except:\n",
        "  # Si surje una excepción en el try, ejecuta este código, si no, salta esta etapa\n",
        "else:\n",
        "  # Si no surjen excepciones, ejecuta esta parte del código\n",
        "finally:\n",
        "  # Ejecuta este trecho (con o sin excepción)\n",
        "```"
      ]
    },
    {
      "cell_type": "markdown",
      "metadata": {
        "id": "jGtFVx5GdnsS"
      },
      "source": [
        "#### **Situación 14:**\n",
        "\n",
        "Creaste un código que lee un diccionario con las notas de los estudiantes y querías retornar la lista de notas de un estudiante.\n",
        "\n",
        "En caso de que el/la estudiante no esté matriculado(a) en la clase, debe aparecer el siguiente mensaje: \"Estudiante no matriculado(a) en el grupo\" y, si no surje la excepción, debemos exhibir la lista con las notas del(la) estudiante. Un texto avisando que \"La consulta ha concluído.\" debe ser mostrado independientemente de si surgió o no alguna excepción.\n",
        "\n",
        "\n",
        "Vamos a trabajar en este ejemplo con la excepción **Key Error** que interrumpirá el proceso de este trecho del código.\n",
        "\n",
        "**¿Vamos a probar este tratamiento?**"
      ]
    },
    {
      "cell_type": "code",
      "execution_count": 11,
      "metadata": {
        "id": "PwdLYP_zJ04s"
      },
      "outputs": [
        {
          "name": "stdout",
          "output_type": "stream",
          "text": [
            "Las notas del estudiante Maria son: [9.0, 7.0, 6.0]\n",
            "La consulta ha concluido\n"
          ]
        }
      ],
      "source": [
        "try:\n",
        "    nombre = input('Digitar el nombre del estudiante')\n",
        "    resultado = notas[nombre]\n",
        "except KeyError:\n",
        "    print(f'Estudiante {nombre} no matriculado en el grupo')\n",
        "else:\n",
        "    print(f'Las notas del estudiante {nombre} son: {resultado}')\n",
        "finally:\n",
        "    print('La consulta ha concluido')"
      ]
    },
    {
      "cell_type": "code",
      "execution_count": 12,
      "metadata": {
        "id": "pv0BaQ95J1BA"
      },
      "outputs": [
        {
          "name": "stdout",
          "output_type": "stream",
          "text": [
            "Las notas del estudiante Claudia son: [5.5, 6.6, 8.0]\n",
            "La consulta ha concluido\n"
          ]
        }
      ],
      "source": [
        "try:\n",
        "    nombre = input('Digitar el nombre del estudiante')\n",
        "    resultado = notas[nombre]\n",
        "except KeyError:\n",
        "    print(f'Estudiante {nombre} no matriculado en el grupo')\n",
        "else:\n",
        "    print(f'Las notas del estudiante {nombre} son: {resultado}')\n",
        "finally:\n",
        "    print('La consulta ha concluido')"
      ]
    },
    {
      "cell_type": "markdown",
      "metadata": {
        "id": "HdjllLBpST_2"
      },
      "source": [
        "## 4.2 Raise\n",
        "\n",
        "Otra forma de trabajar con las excepciones en tu código, es generando tus propias excepciones para determinados comportamientos que deseas en tu código.\n",
        "\n",
        "Para ello, utilizamos la palabra clave `raise` junto al tipo de excepción que se desea mostrar y el mensaje que será exhibido.   "
      ]
    },
    {
      "cell_type": "markdown",
      "metadata": {
        "id": "_nIOnDQufv6Z"
      },
      "source": [
        "```python\n",
        "raise NombreDelError(\"Mensaje deseado.\")\n",
        "```"
      ]
    },
    {
      "cell_type": "markdown",
      "metadata": {
        "id": "xapeB2ivgB7R"
      },
      "source": [
        "#### **Situación 15:**\n",
        "\n",
        "Creaste una función para calcular el promedio de un estudiante en una determinada materia pasando en una lista las notas de este estudiante.\n",
        "\n",
        "Pretendes tratar 2 situaciones:\n",
        "\n",
        "- Si la lista posee un valor no numérico el cálculo de promedio no será ejecutado y un mensaje de \"No fue posible calcular el promedio del(la) estudiante. Solo se admiten valores numéricos!\" será exhibido.\n",
        "\n",
        "- En caso que la lista tenga más de 4 notas, surgirá una excepción del tipo **ValueError** informando que \"La lista no puede poseer más de 4 notas.\"\n",
        "\n",
        "Un texto avisando que \"La consulta ha concluído.\" debe ser mostrado independientemente de si surgió o no alguna excepción.\n",
        "\n",
        "**¿Vamos a resolver este desafío?**"
      ]
    },
    {
      "cell_type": "code",
      "execution_count": 13,
      "metadata": {
        "id": "kKeFuHUfhSfa"
      },
      "outputs": [],
      "source": [
        "def promedio(lista: list=[0]) -> float:\n",
        "  ''' Función para calcular el promedio de notas en una lista\n",
        "\n",
        "  lista: list, default [0]\n",
        "    Lista con las notas para calcular el promedio\n",
        "  return = calculo: float\n",
        "    Promedio calculado\n",
        "  '''\n",
        "\n",
        "  calculo = sum(lista) / len(lista)\n",
        "\n",
        "  if len(lista) > 4:\n",
        "    raise ValueError('La lista no puede poseer mas de 4 notas')\n",
        "\n",
        "  return calculo"
      ]
    },
    {
      "cell_type": "code",
      "execution_count": 14,
      "metadata": {
        "id": "_ghW6hb9KBpU"
      },
      "outputs": [
        {
          "data": {
            "text/plain": [
              "7.5"
            ]
          },
          "execution_count": 14,
          "metadata": {},
          "output_type": "execute_result"
        }
      ],
      "source": [
        "notas = [6,7,8,9]\n",
        "resultado = promedio(notas)\n",
        "resultado"
      ]
    },
    {
      "cell_type": "code",
      "execution_count": 15,
      "metadata": {
        "id": "X2To8kJdKGFk"
      },
      "outputs": [
        {
          "ename": "TypeError",
          "evalue": "unsupported operand type(s) for +: 'int' and 'str'",
          "output_type": "error",
          "traceback": [
            "\u001b[31m---------------------------------------------------------------------------\u001b[39m",
            "\u001b[31mTypeError\u001b[39m                                 Traceback (most recent call last)",
            "\u001b[36mCell\u001b[39m\u001b[36m \u001b[39m\u001b[32mIn[15]\u001b[39m\u001b[32m, line 2\u001b[39m\n\u001b[32m      1\u001b[39m notas = [\u001b[32m6\u001b[39m,\u001b[32m7\u001b[39m,\u001b[32m8\u001b[39m,\u001b[32m9\u001b[39m,\u001b[33m'\u001b[39m\u001b[33m10\u001b[39m\u001b[33m'\u001b[39m]\n\u001b[32m----> \u001b[39m\u001b[32m2\u001b[39m resultado = \u001b[43mpromedio\u001b[49m\u001b[43m(\u001b[49m\u001b[43mnotas\u001b[49m\u001b[43m)\u001b[49m\n\u001b[32m      3\u001b[39m resultado\n",
            "\u001b[36mCell\u001b[39m\u001b[36m \u001b[39m\u001b[32mIn[13]\u001b[39m\u001b[32m, line 10\u001b[39m, in \u001b[36mpromedio\u001b[39m\u001b[34m(lista)\u001b[39m\n\u001b[32m      1\u001b[39m \u001b[38;5;28;01mdef\u001b[39;00m\u001b[38;5;250m \u001b[39m\u001b[34mpromedio\u001b[39m(lista: \u001b[38;5;28mlist\u001b[39m=[\u001b[32m0\u001b[39m]) -> \u001b[38;5;28mfloat\u001b[39m:\n\u001b[32m      2\u001b[39m \u001b[38;5;250m  \u001b[39m\u001b[33;03m''' Función para calcular el promedio de notas en una lista\u001b[39;00m\n\u001b[32m      3\u001b[39m \n\u001b[32m      4\u001b[39m \u001b[33;03m  lista: list, default [0]\u001b[39;00m\n\u001b[32m   (...)\u001b[39m\u001b[32m      7\u001b[39m \u001b[33;03m    Promedio calculado\u001b[39;00m\n\u001b[32m      8\u001b[39m \u001b[33;03m  '''\u001b[39;00m\n\u001b[32m---> \u001b[39m\u001b[32m10\u001b[39m   calculo = \u001b[38;5;28;43msum\u001b[39;49m\u001b[43m(\u001b[49m\u001b[43mlista\u001b[49m\u001b[43m)\u001b[49m / \u001b[38;5;28mlen\u001b[39m(lista)\n\u001b[32m     12\u001b[39m   \u001b[38;5;28;01mif\u001b[39;00m \u001b[38;5;28mlen\u001b[39m(lista) > \u001b[32m4\u001b[39m:\n\u001b[32m     13\u001b[39m     \u001b[38;5;28;01mraise\u001b[39;00m \u001b[38;5;167;01mValueError\u001b[39;00m(\u001b[33m'\u001b[39m\u001b[33mLa lista no puede poseer mas de 4 notas\u001b[39m\u001b[33m'\u001b[39m)\n",
            "\u001b[31mTypeError\u001b[39m: unsupported operand type(s) for +: 'int' and 'str'"
          ]
        }
      ],
      "source": [
        "notas = [6,7,8,9,'10']\n",
        "resultado = promedio(notas)\n",
        "resultado"
      ]
    },
    {
      "cell_type": "code",
      "execution_count": 16,
      "metadata": {
        "id": "nrCsWqX6KGIA"
      },
      "outputs": [
        {
          "name": "stdout",
          "output_type": "stream",
          "text": [
            "No fue posible calcular el promedio del estudiante. Solo se admiten valores numericos\n",
            "La consulta ha concluido\n"
          ]
        }
      ],
      "source": [
        "try:\n",
        "    notas = [6,7,8,9,'10']\n",
        "    resultado = promedio(notas)\n",
        "except TypeError:\n",
        "    print('No fue posible calcular el promedio del estudiante. Solo se admiten valores numericos')\n",
        "except ValueError as e:\n",
        "    print(e)\n",
        "else:\n",
        "    print(f'Las notas del estudiante son: {resultado}')\n",
        "finally:\n",
        "    print('La consulta ha concluido')"
      ]
    },
    {
      "cell_type": "code",
      "execution_count": 17,
      "metadata": {},
      "outputs": [
        {
          "name": "stdout",
          "output_type": "stream",
          "text": [
            "La lista no puede poseer mas de 4 notas\n",
            "La consulta ha concluido\n"
          ]
        }
      ],
      "source": [
        "try:\n",
        "    notas = [6,7,8,9,6]\n",
        "    resultado = promedio(notas)\n",
        "except TypeError:\n",
        "    print('No fue posible calcular el promedio del estudiante. Solo se admiten valores numericos')\n",
        "except ValueError as e:\n",
        "    print(e)\n",
        "else:\n",
        "    print(f'Las notas del estudiante son: {resultado}')\n",
        "finally:\n",
        "    print('La consulta ha concluido')"
      ]
    },
    {
      "cell_type": "code",
      "execution_count": 18,
      "metadata": {},
      "outputs": [
        {
          "name": "stdout",
          "output_type": "stream",
          "text": [
            "Las notas del estudiante son: 7.5\n",
            "La consulta ha concluido\n"
          ]
        }
      ],
      "source": [
        "try:\n",
        "    notas = [6,7,8,9]\n",
        "    resultado = promedio(notas)\n",
        "except TypeError:\n",
        "    print('No fue posible calcular el promedio del estudiante. Solo se admiten valores numericos')\n",
        "except ValueError as e:\n",
        "    print(e)\n",
        "else:\n",
        "    print(f'Las notas del estudiante son: {resultado}')\n",
        "finally:\n",
        "    print('La consulta ha concluido')"
      ]
    }
  ],
  "metadata": {
    "colab": {
      "include_colab_link": true,
      "provenance": []
    },
    "kernelspec": {
      "display_name": "env",
      "language": "python",
      "name": "python3"
    },
    "language_info": {
      "codemirror_mode": {
        "name": "ipython",
        "version": 3
      },
      "file_extension": ".py",
      "mimetype": "text/x-python",
      "name": "python",
      "nbconvert_exporter": "python",
      "pygments_lexer": "ipython3",
      "version": "3.13.0"
    }
  },
  "nbformat": 4,
  "nbformat_minor": 0
}
